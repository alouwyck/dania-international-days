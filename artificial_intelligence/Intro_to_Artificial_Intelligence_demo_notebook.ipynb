{
  "nbformat": 4,
  "nbformat_minor": 0,
  "metadata": {
    "colab": {
      "provenance": [],
      "include_colab_link": true
    },
    "kernelspec": {
      "name": "python3",
      "display_name": "Python 3"
    },
    "language_info": {
      "name": "python"
    }
  },
  "cells": [
    {
      "cell_type": "markdown",
      "metadata": {
        "id": "view-in-github",
        "colab_type": "text"
      },
      "source": [
        "<a href=\"https://colab.research.google.com/github/alouwyck/dania-international-days/blob/main/artificial_intelligence/Intro_to_Artificial_Intelligence_demo_notebook.ipynb\" target=\"_parent\"><img src=\"https://colab.research.google.com/assets/colab-badge.svg\" alt=\"Open In Colab\"/></a>"
      ]
    },
    {
      "cell_type": "markdown",
      "metadata": {
        "id": "DyJxjGGXV07j"
      },
      "source": [
        "<img src=\"data:image/png;base64,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\" align=\"right\" /><br>\n",
        "\n",
        "**Dania International Days**<br>\n",
        "13 - 15 March 2024<br><br>\n",
        "Workshop by Dominique Stove & Andy Louwyck\n",
        "\n",
        "---\n",
        "\n",
        "\n",
        "\n",
        "---\n",
        "\n"
      ]
    },
    {
      "cell_type": "markdown",
      "source": [
        "# **INTRODUCTION TO ARTIFICIAL INTELLIGENCE WITH PYTHON**"
      ],
      "metadata": {
        "id": "wgl2o66IebkB"
      }
    },
    {
      "cell_type": "markdown",
      "source": [
        "## **Finding the Optimal Route**"
      ],
      "metadata": {
        "id": "pAPV7sBZZgmn"
      }
    },
    {
      "cell_type": "markdown",
      "source": [
        "The flight routes:"
      ],
      "metadata": {
        "id": "2f0wUnJskTLN"
      }
    },
    {
      "cell_type": "code",
      "source": [
        "routes = [[\"Brussels\", \"Paris\"],\n",
        "          [\"Brussels\", \"Berlin\"],\n",
        "          [\"Brussels\", \"Bern\"],\n",
        "          [\"Paris\", \"Bern\"],\n",
        "          [\"Berlin\", \"Budapest\"],\n",
        "          [\"Berlin\", \"Bern\"],\n",
        "          [\"Bern\", \"Rome\"],\n",
        "          [\"Bern\", \"Belgrade\"],\n",
        "          [\"Rome\", \"Athens\"],\n",
        "          [\"Rome\", \"Belgrade\"],\n",
        "          [\"Belgrade\", \"Bucharest\"],\n",
        "          [\"Belgrade\", \"Athens\"],\n",
        "          [\"Budapest\", \"Belgrade\"],\n",
        "          [\"Budapest\", \"Bucharest\"],\n",
        "          [\"Athens\", \"Istanbul\"],\n",
        "          [\"Bucharest\", \"Istanbul\"]]"
      ],
      "metadata": {
        "id": "NcGk5oNzQaa_"
      },
      "execution_count": null,
      "outputs": []
    },
    {
      "cell_type": "markdown",
      "source": [
        "Departure and destination:"
      ],
      "metadata": {
        "id": "P5XgXp_jkZiy"
      }
    },
    {
      "cell_type": "code",
      "source": [
        "departure, destination = \"Brussels\", \"Istanbul\""
      ],
      "metadata": {
        "id": "8i_xsPpsRAdV"
      },
      "execution_count": null,
      "outputs": []
    },
    {
      "cell_type": "markdown",
      "source": [
        "The cities:"
      ],
      "metadata": {
        "id": "_P8IAHS4kVES"
      }
    },
    {
      "cell_type": "code",
      "source": [
        "cities = {city for route in routes for city in route}\n",
        "cities"
      ],
      "metadata": {
        "id": "Pyo3VValQ8I9"
      },
      "execution_count": null,
      "outputs": []
    },
    {
      "cell_type": "markdown",
      "source": [
        "Get geodataframe with cities:"
      ],
      "metadata": {
        "id": "3tw0ayLVknxs"
      }
    },
    {
      "cell_type": "code",
      "source": [
        "import geopandas  # library for spatial data\n",
        "path_to_data = geopandas.datasets.get_path(\"naturalearth_cities\")\n",
        "gdf = geopandas.read_file(path_to_data)\n",
        "gdf.head()"
      ],
      "metadata": {
        "id": "u-Cn_RuiRK17"
      },
      "execution_count": null,
      "outputs": []
    },
    {
      "cell_type": "code",
      "source": [
        "# keep cities from flight routes\n",
        "gdf = gdf[gdf.name.isin(cities)]\n",
        "gdf"
      ],
      "metadata": {
        "id": "OS-5sHO-RC2d"
      },
      "execution_count": null,
      "outputs": []
    },
    {
      "cell_type": "markdown",
      "source": [
        "Function to calculate Euclidean distance between two cities:"
      ],
      "metadata": {
        "id": "oCNZnzbLky7Z"
      }
    },
    {
      "cell_type": "code",
      "source": [
        "import geopy.distance\n",
        "\n",
        "def distance(city1, city2):\n",
        "    # city1 and city2 are shapely.geometry.point.Point objects\n",
        "    lat1, lon1 = city1.y, city1.x\n",
        "    lat2, lon2 = city2.y, city2.x\n",
        "    return int(geopy.distance.geodesic((lat1, lon1), (lat2, lon2)).meters / 1000)  # distance in km"
      ],
      "metadata": {
        "id": "thDXoj7UQity"
      },
      "execution_count": null,
      "outputs": []
    },
    {
      "cell_type": "markdown",
      "source": [
        "Creating the map:"
      ],
      "metadata": {
        "id": "tMYbg4GHk_4-"
      }
    },
    {
      "cell_type": "code",
      "source": [
        "from matplotlib import pyplot as plt  # visualization library\n",
        "\n",
        "# create figure and axes\n",
        "_, ax = plt.subplots(1, 1);\n",
        "\n",
        "# plot map\n",
        "map = geopandas.read_file(geopandas.datasets.get_path(\"naturalearth_lowres\"))\n",
        "map.plot(color='lightblue', ax=ax);\n",
        "map.boundary.plot(color='gray', ax=ax);\n",
        "\n",
        "# plot cities\n",
        "gdf.plot(color='black', ax=ax);\n",
        "start = gdf[gdf.name==departure].geometry.iloc[0]\n",
        "stop = gdf[gdf.name==destination].geometry.iloc[0]\n",
        "plt.plot(start.x, start.y, 'go', stop.x, stop.y, 'ro');\n",
        "\n",
        "# plot routes\n",
        "for route in routes:\n",
        "    city1 = gdf[gdf.name==route[0]].geometry.iloc[0]\n",
        "    city2 = gdf[gdf.name==route[1]].geometry.iloc[0]\n",
        "    plt.plot((city1.x, city2.x), (city1.y, city2.y), 'k-');\n",
        "\n",
        "# zoom in on Europe\n",
        "plt.xlim((-10, 40));\n",
        "plt.ylim((35, 60));"
      ],
      "metadata": {
        "id": "WIWOcqC9RWmP"
      },
      "execution_count": null,
      "outputs": []
    },
    {
      "cell_type": "markdown",
      "source": [
        "Getting the coordinates:"
      ],
      "metadata": {
        "id": "NuHR1pVClB3G"
      }
    },
    {
      "cell_type": "code",
      "source": [
        "coordinates = {city[1]['name']: (city[1].geometry.x, city[1].geometry.y)\n",
        "               for city in gdf[['name', 'geometry']].iterrows()}\n",
        "coordinates"
      ],
      "metadata": {
        "id": "jTQO-A9nReHE"
      },
      "execution_count": null,
      "outputs": []
    },
    {
      "cell_type": "markdown",
      "source": [
        "Convert the map into a graph:"
      ],
      "metadata": {
        "id": "lt4RDrnXlFdO"
      }
    },
    {
      "cell_type": "code",
      "source": [
        "# defining the edges\n",
        "edges = []\n",
        "for route in routes:\n",
        "    city1, city2 = route[0], route[1]\n",
        "    dist = distance(gdf[gdf.name==city1].geometry.iloc[0],\n",
        "                    gdf[gdf.name==city2].geometry.iloc[0])\n",
        "    edges.append((city1, city2, dist))\n",
        "edges"
      ],
      "metadata": {
        "id": "lOUCR5pERgYC"
      },
      "execution_count": null,
      "outputs": []
    },
    {
      "cell_type": "code",
      "source": [
        "# the nodes are the cities\n",
        "# the heuristic value is the straight-line distance between a city and the destination\n",
        "\n",
        "heuristic = {city: int(distance(gdf[gdf.name==city].geometry.iloc[0],\n",
        "                                gdf[gdf.name==destination].geometry.iloc[0]))\n",
        "             for city in cities}\n",
        "heuristic"
      ],
      "metadata": {
        "id": "EtVQSliSRkO2"
      },
      "execution_count": null,
      "outputs": []
    },
    {
      "cell_type": "code",
      "source": [
        "import networkx as nx  # library for analyzing complex networks\n",
        "\n",
        "G = nx.Graph()\n",
        "for node, h in heuristic.items():\n",
        "    G.add_node(node, h=h)\n",
        "for edge in edges:\n",
        "    G.add_edge(edge[0], edge[1], cost=edge[2])"
      ],
      "metadata": {
        "id": "SmwtZhrWRptv"
      },
      "execution_count": null,
      "outputs": []
    },
    {
      "cell_type": "markdown",
      "source": [
        "Plotting the graph:"
      ],
      "metadata": {
        "id": "a1mLjM7blYAU"
      }
    },
    {
      "cell_type": "code",
      "source": [
        "labels = {node: node + \"\\n\" + str(h) for node, h in nx.get_node_attributes(G, 'h').items()}  # h toevoegen aan de node labels\n",
        "nx.draw(G, coordinates, labels=labels, node_size=750, node_color=\"y\")\n",
        "nx.draw_networkx_edge_labels(\n",
        "    G, coordinates, nx.get_edge_attributes(G, 'cost')\n",
        ");"
      ],
      "metadata": {
        "id": "gETcIGQ8Sg6O"
      },
      "execution_count": null,
      "outputs": []
    },
    {
      "cell_type": "markdown",
      "source": [
        "Applying A*:"
      ],
      "metadata": {
        "id": "zSncfHxdlao3"
      }
    },
    {
      "cell_type": "code",
      "source": [
        "from networkx.algorithms.shortest_paths import astar_path, astar_path_length\n",
        "\n",
        "print('optimal route:', astar_path(G, source=departure, target=destination, weight=\"cost\"))\n",
        "print('total distance:', astar_path_length(G, source=departure, target=destination, weight=\"cost\"))"
      ],
      "metadata": {
        "id": "gS1dV6PYSz-p"
      },
      "execution_count": null,
      "outputs": []
    },
    {
      "cell_type": "markdown",
      "source": [
        "## **Regression**"
      ],
      "metadata": {
        "id": "gHYjVEzFj6pD"
      }
    },
    {
      "cell_type": "markdown",
      "source": [
        "The dataset"
      ],
      "metadata": {
        "id": "WvWkYmqf1i9G"
      }
    },
    {
      "cell_type": "code",
      "source": [
        "import pandas as pd\n",
        "df = pd.read_csv('Student_Marks.csv')\n",
        "df.head()  # show the first 5 records"
      ],
      "metadata": {
        "id": "0QtRIn5Sj6pE"
      },
      "execution_count": null,
      "outputs": []
    },
    {
      "cell_type": "code",
      "source": [
        "df.describe().T  # T transposes the resulting table"
      ],
      "metadata": {
        "id": "MtRX_UrLj6pE"
      },
      "execution_count": null,
      "outputs": []
    },
    {
      "cell_type": "code",
      "source": [
        "import matplotlib.pyplot as plt\n",
        "df.plot.scatter(x='time_study', y='Marks');\n",
        "plt.grid();"
      ],
      "metadata": {
        "id": "UZVt5qdnj6pF"
      },
      "execution_count": null,
      "outputs": []
    },
    {
      "cell_type": "markdown",
      "source": [
        "Simple linear regression"
      ],
      "metadata": {
        "id": "QTFYPv01j6pF"
      }
    },
    {
      "cell_type": "code",
      "source": [
        "from sklearn.linear_model import LinearRegression\n",
        "\n",
        "X, y = df[['time_study']].values, df.Marks.values  # feature X, target y\n",
        "\n",
        "model = LinearRegression()  # instantiate class\n",
        "model.fit(X, y)  # fit data\n",
        "model.score(X, y)  # R² score"
      ],
      "metadata": {
        "id": "71WW4Yc2j6pF"
      },
      "execution_count": null,
      "outputs": []
    },
    {
      "cell_type": "code",
      "source": [
        "import numpy as np  # numeric python library\n",
        "\n",
        "df.plot.scatter(x='time_study', y='Marks');\n",
        "xline = np.array([[0, 8]]).T  # must be 2D matrix!\n",
        "yline = model.predict(xline)  # predict regression line\n",
        "plt.plot(xline, yline, 'r-');\n",
        "plt.grid();"
      ],
      "metadata": {
        "id": "MCmvHPuYj6pF"
      },
      "execution_count": null,
      "outputs": []
    },
    {
      "cell_type": "markdown",
      "source": [
        "Underfitting!"
      ],
      "metadata": {
        "id": "MYH8MJ6o16ue"
      }
    },
    {
      "cell_type": "markdown",
      "source": [
        "Polynomial regression"
      ],
      "metadata": {
        "id": "jKqhSVtBj6pG"
      }
    },
    {
      "cell_type": "code",
      "source": [
        "import numpy as np\n",
        "X = X.flatten()               # polyfit wants 1D array!\n",
        "a = np.polyfit(X, y, deg=15)  # polynomial fit of degree 15"
      ],
      "metadata": {
        "id": "Pzb6kFg3j6pG"
      },
      "execution_count": null,
      "outputs": []
    },
    {
      "cell_type": "code",
      "source": [
        "from sklearn.metrics import r2_score  # import function to calculate R² score\n",
        "\n",
        "yp = np.polyval(a, X)          # predictions\n",
        "r2_score(y_true=y, y_pred=yp)  # R² score"
      ],
      "metadata": {
        "id": "N7m_cSoJj6pG"
      },
      "execution_count": null,
      "outputs": []
    },
    {
      "cell_type": "code",
      "source": [
        "xcurve = np.linspace(0, 8, 100)  # create 100 equally spaced points x between 0 and 8\n",
        "ycurve = np.polyval(a, xcurve)   # predict y for these 100 points x\n",
        "df.plot.scatter(x='time_study', y='Marks')\n",
        "plt.plot(xcurve, ycurve, 'r-');\n",
        "plt.grid();"
      ],
      "metadata": {
        "id": "p1RG3HOELm3y"
      },
      "execution_count": null,
      "outputs": []
    },
    {
      "cell_type": "markdown",
      "source": [
        "Overfitting!"
      ],
      "metadata": {
        "id": "g13fU0cz2NUq"
      }
    },
    {
      "cell_type": "markdown",
      "source": [
        "Create validation set"
      ],
      "metadata": {
        "id": "kdFABdtX2Ut3"
      }
    },
    {
      "cell_type": "code",
      "source": [
        "from sklearn.model_selection import train_test_split\n",
        "\n",
        "X, y = df[['time_study']].values, df.Marks.values  # feature X, target y\n",
        "X_train, X_val, y_train, y_val = train_test_split(X, y,\n",
        "                                                  test_size=0.4,      # 40% is used for validation\n",
        "                                                  random_state=2024)  # set random seed"
      ],
      "metadata": {
        "id": "JA90Cp9N1Jbn"
      },
      "execution_count": null,
      "outputs": []
    },
    {
      "cell_type": "code",
      "source": [
        "plt.scatter(X_train.flatten(), y_train, color='blue', label='training set');\n",
        "plt.scatter(X_val.flatten(), y_val, color='red', label='validation set');\n",
        "plt.legend();\n",
        "plt.xlabel('time_study');\n",
        "plt.ylabel('Marks');\n",
        "plt.grid();"
      ],
      "metadata": {
        "id": "E7n-R8nP1ye0"
      },
      "execution_count": null,
      "outputs": []
    },
    {
      "cell_type": "code",
      "source": [
        "# linear regression\n",
        "linreg = LinearRegression()\n",
        "linreg.fit(X_train, y_train)\n",
        "print(f\"training: {linreg.score(X_train, y_train)}\")\n",
        "print(f\"validation: {linreg.score(X_val, y_val)}\")"
      ],
      "metadata": {
        "id": "08ikovEuzLpD"
      },
      "execution_count": null,
      "outputs": []
    },
    {
      "cell_type": "code",
      "source": [
        "# polynomial regression (degree 15)\n",
        "a = np.polyfit(X_train.flatten(), y_train, deg=15)  # polynomial fit of degree 15\n",
        "print(f\"training: {r2_score(y_true=y_train, y_pred=np.polyval(a, X_train.flatten()))}\")\n",
        "print(f\"validation: {r2_score(y_true=y_val, y_pred=np.polyval(a, X_val.flatten()))}\")"
      ],
      "metadata": {
        "id": "YSZfe4X2Rfs6"
      },
      "execution_count": null,
      "outputs": []
    },
    {
      "cell_type": "markdown",
      "source": [
        "The model complexity graph"
      ],
      "metadata": {
        "id": "1nzhUn2N2nHD"
      }
    },
    {
      "cell_type": "code",
      "source": [
        "from sklearn.metrics import mean_absolute_error as MAE  # import MAE function\n",
        "\n",
        "mae_train = []  # list of MAEs of training data\n",
        "mae_val = []    # list of MAEs of validation data\n",
        "coef = []       # list of coefficients\n",
        "degrees = range(1, 21)  # range of degrees of polynomial function\n",
        "\n",
        "for degree in degrees:  # loop through degrees\n",
        "\n",
        "    a = np.polyfit(X_train.flatten(), y_train, degree)  # polynomial fit of training data\n",
        "    yp_train = np.polyval(a, X_train.flatten())         # predictions of training data\n",
        "    yp_val = np.polyval(a, X_val.flatten())             # predictions of validation data\n",
        "\n",
        "    coef.append(a)  # coefficients\n",
        "    mae_train.append(MAE(y_true=y_train, y_pred=yp_train))  # MAE of training data\n",
        "    mae_val.append(MAE(y_true=y_val, y_pred=yp_val))        # MAE of validation data"
      ],
      "metadata": {
        "id": "3oKqzfsa3AEn"
      },
      "execution_count": null,
      "outputs": []
    },
    {
      "cell_type": "code",
      "source": [
        "from matplotlib.animation import FuncAnimation\n",
        "from matplotlib import rc\n",
        "rc('animation', html='jshtml')\n",
        "\n",
        "# initialization\n",
        "fig, (ax1, ax2) = plt.subplots(1, 2, figsize=(12, 5))  # figure containing 2 axes\n",
        "ax1.plot(X_train.flatten(), y_train, 'b.', label='training set');\n",
        "ax1.plot(X_val.flatten(), y_val, 'r.', label='validation set');\n",
        "ax1.legend();\n",
        "xplot = np.linspace(0, 8, 1000)\n",
        "regression_line = ax1.plot(xplot, np.polyval(coef[0], xplot),'k-')\n",
        "ax1.set_title('degree = 1');\n",
        "ax1.set_xlabel('time_study');\n",
        "ax1.set_ylabel('Marks');\n",
        "ax1.grid();\n",
        "ax2.yaxis.set_label_position(\"right\");\n",
        "ax2.yaxis.tick_right();\n",
        "mae_train_line = ax2.plot(degrees[0], mae_train[0], 'b.-', label='training');\n",
        "mae_val_line = ax2.plot(degrees[0], mae_val[0], 'r.-', label='validation');\n",
        "ax2.legend();\n",
        "ax2.set_xlabel('Degree');\n",
        "ax2.set_ylabel('MAE');\n",
        "ax2.set_xlim((0, 21));\n",
        "ax2.set_ylim((1, 5));\n",
        "ax2.grid();\n",
        "\n",
        "# update function for animation\n",
        "def update(degree):\n",
        "    yplot = np.polyval(coef[degree-1], xplot)\n",
        "    regression_line[0].set_ydata(yplot)\n",
        "    ax1.set_title('degree = ' + str(degree));\n",
        "    mae_train_line[0].set_xdata(degrees[:degree])\n",
        "    mae_train_line[0].set_ydata(mae_train[:degree])\n",
        "    mae_val_line[0].set_xdata(degrees[:degree])\n",
        "    mae_val_line[0].set_ydata(mae_val[:degree])\n",
        "\n",
        "# create animation\n",
        "ani = FuncAnimation(fig, update, frames=degrees, blit=False, repeat=True)\n",
        "plt.close()\n",
        "ani"
      ],
      "metadata": {
        "id": "Dq3LcUTElINn"
      },
      "execution_count": null,
      "outputs": []
    },
    {
      "cell_type": "code",
      "source": [
        "plt.plot(degrees, mae_train, 'b.-', label='training');\n",
        "plt.plot(degrees, mae_val, 'r.-', label='validation');\n",
        "plt.legend();\n",
        "plt.xlabel('Degree');\n",
        "plt.ylabel('MAE');\n",
        "plt.grid();"
      ],
      "metadata": {
        "id": "KonpP2uMxGF7"
      },
      "execution_count": null,
      "outputs": []
    },
    {
      "cell_type": "code",
      "source": [
        "# polynomial fit degree 2\n",
        "\n",
        "a = np.polyfit(X.flatten(), y, deg=2)\n",
        "yp = np.polyval(a, X.flatten())\n",
        "MAE(y_true=y, y_pred=yp)"
      ],
      "metadata": {
        "id": "4L2L1Ut_3kHZ"
      },
      "execution_count": null,
      "outputs": []
    },
    {
      "cell_type": "code",
      "source": [
        "df.plot.scatter(x='time_study', y='Marks');\n",
        "xplot = np.linspace(0, 8, 100)\n",
        "plt.plot(xplot, np.polyval(a, xplot), 'r-');\n",
        "plt.grid();"
      ],
      "metadata": {
        "id": "y3aqSns8j6pI"
      },
      "execution_count": null,
      "outputs": []
    },
    {
      "cell_type": "markdown",
      "metadata": {
        "id": "lLelnAcFLGio"
      },
      "source": [
        "## **Image Classification**"
      ]
    },
    {
      "cell_type": "markdown",
      "source": [
        "The dataset"
      ],
      "metadata": {
        "id": "DNYQ4PHyvtRg"
      }
    },
    {
      "cell_type": "code",
      "execution_count": null,
      "metadata": {
        "id": "wS7CyBWSoBOw"
      },
      "outputs": [],
      "source": [
        "from keras.datasets import mnist  # the MNIST dataset\n",
        "\n",
        "(train_images, train_labels), (test_images, test_labels) = mnist.load_data()"
      ]
    },
    {
      "cell_type": "code",
      "execution_count": null,
      "metadata": {
        "id": "RHcKrqEd6o0T"
      },
      "outputs": [],
      "source": [
        "print(f\"The training set constains {len(train_images)} images\")\n",
        "print(f\"The test set contains {len(test_images)} images\")"
      ]
    },
    {
      "cell_type": "code",
      "execution_count": null,
      "metadata": {
        "id": "MWP2VkwgrbeN"
      },
      "outputs": [],
      "source": [
        "import matplotlib.pyplot as plt\n",
        "\n",
        "digit = train_images[4]  # 5th image (index 4!)\n",
        "plt.imshow(digit, cmap=plt.cm.binary)  # plot image\n",
        "plt.title(f\"Label: {train_labels[4]}\");  # label for 5th image"
      ]
    },
    {
      "cell_type": "code",
      "source": [
        "type(digit)"
      ],
      "metadata": {
        "id": "VqKvTOJhugx1"
      },
      "execution_count": null,
      "outputs": []
    },
    {
      "cell_type": "code",
      "source": [
        "digit.shape"
      ],
      "metadata": {
        "id": "e-LKFw26u25S"
      },
      "execution_count": null,
      "outputs": []
    },
    {
      "cell_type": "code",
      "source": [
        "digit.dtype"
      ],
      "metadata": {
        "id": "W_A03fr-vKw-"
      },
      "execution_count": null,
      "outputs": []
    },
    {
      "cell_type": "code",
      "source": [
        "digit.min(), digit.max()"
      ],
      "metadata": {
        "id": "BlCIF_OGvNSD"
      },
      "execution_count": null,
      "outputs": []
    },
    {
      "cell_type": "code",
      "execution_count": null,
      "metadata": {
        "id": "kaKDkXL7pho1"
      },
      "outputs": [],
      "source": [
        "train_images = train_images.reshape((60000, 28 * 28))  # reshape\n",
        "train_images = train_images.astype(\"float32\") / 255  # normalize and convert to float\n",
        "test_images = test_images.reshape((10000, 28 * 28))  # reshape\n",
        "test_images = test_images.astype(\"float32\") / 255  # normalize and convert to float"
      ]
    },
    {
      "cell_type": "markdown",
      "source": [
        "Our own hand-written digit"
      ],
      "metadata": {
        "id": "L2C5FfsnvwQO"
      }
    },
    {
      "cell_type": "code",
      "execution_count": null,
      "metadata": {
        "id": "EmOSq0Vfsc66"
      },
      "outputs": [],
      "source": [
        "# own hand written digit\n",
        "import PIL\n",
        "import numpy as np\n",
        "digit = PIL.Image.open(\"digit.png\")  # read image\n",
        "digit = digit.resize((28, 28))  # resize image to 28 x 28\n",
        "digit = digit.convert('L')  # convert image to black and white (L = luminance)\n",
        "digit = np.array(digit)  # convert image to numpy array\n",
        "digit = 255 - digit  # turn black into whihte and white in to black\n",
        "digit = digit.astype(\"float32\") / 255.0  # normalize array\n",
        "plt.imshow(digit, cmap=plt.cm.binary);  # plot digit"
      ]
    },
    {
      "cell_type": "markdown",
      "source": [
        "A fully connected network"
      ],
      "metadata": {
        "id": "hBXeDzVXvzNC"
      }
    },
    {
      "cell_type": "code",
      "execution_count": null,
      "metadata": {
        "id": "NweLXwZEoaNc"
      },
      "outputs": [],
      "source": [
        "# a fully connected neural net\n",
        "\n",
        "from tensorflow import keras\n",
        "\n",
        "model = keras.Sequential([\n",
        " keras.layers.Dense(512, activation=\"relu\"),  # hidden layer consisting of 512 neurons and relu as activation\n",
        " keras.layers.Dense(10, activation=\"softmax\")  # output layer consisting of 10 neurons and softmax as activation\n",
        "])\n",
        "\n",
        "model.build(input_shape=(None, 28 * 28))  # number of neurons for the input layer\n",
        "model.summary()"
      ]
    },
    {
      "cell_type": "code",
      "execution_count": null,
      "metadata": {
        "id": "s7NPPa3HogsY"
      },
      "outputs": [],
      "source": [
        "model.compile(\n",
        "    loss=\"sparse_categorical_crossentropy\",  # loss function that calculates difference between predicted and true labels\n",
        "    optimizer=\"rmsprop\",  # algorithm that minimizes the loss function\n",
        "    metrics=[\"accuracy\"]  # calculate accuracy after each iteration (epoch)\n",
        "  )"
      ]
    },
    {
      "cell_type": "code",
      "execution_count": null,
      "metadata": {
        "id": "1hlWFNtIpCkg"
      },
      "outputs": [],
      "source": [
        "# training the model using the training set\n",
        "model.fit(train_images, train_labels,\n",
        "          epochs=5,\n",
        "          batch_size=128);"
      ]
    },
    {
      "cell_type": "markdown",
      "source": [
        "Evaluating the model"
      ],
      "metadata": {
        "id": "Bf6HfNxNv5Lk"
      }
    },
    {
      "cell_type": "code",
      "execution_count": null,
      "metadata": {
        "id": "H8nXhGl2qZDG"
      },
      "outputs": [],
      "source": [
        "test_loss, test_acc = model.evaluate(test_images, test_labels)  # evaluate model using the test set\n",
        "print(f\"accuracy on the test set: {test_acc}\")"
      ]
    },
    {
      "cell_type": "markdown",
      "source": [
        "Our own digit"
      ],
      "metadata": {
        "id": "zRVBSKKtv6jV"
      }
    },
    {
      "cell_type": "code",
      "execution_count": null,
      "metadata": {
        "id": "8h-k0ix2liAy"
      },
      "outputs": [],
      "source": [
        "probs = model.predict(digit.reshape(1, -1))  # predict returns 10 probabilities\n",
        "probs[0]"
      ]
    },
    {
      "cell_type": "code",
      "execution_count": null,
      "metadata": {
        "id": "PhWd3s38cCwX"
      },
      "outputs": [],
      "source": [
        "prob = np.max(probs) * 100  # largest probability\n",
        "n = np.argmax(probs)  # index (= digit) corresponding to the largest probability\n",
        "print(f\"The neural network is for {prob:.2f} % sure the digit is {n}!\")"
      ]
    },
    {
      "cell_type": "markdown",
      "source": [
        "Convolutional network"
      ],
      "metadata": {
        "id": "RTUYl9lKv8xN"
      }
    },
    {
      "cell_type": "code",
      "execution_count": null,
      "metadata": {
        "id": "iM7pPbffvZoQ"
      },
      "outputs": [],
      "source": [
        "# convolutional neural net\n",
        "\n",
        "model = keras.Sequential([\n",
        "  keras.layers.Conv2D(filters=32, kernel_size=3, activation=\"relu\"),\n",
        "  keras.layers.MaxPooling2D(pool_size=2),\n",
        "  keras.layers.Conv2D(filters=64, kernel_size=3, activation=\"relu\"),\n",
        "  keras.layers.MaxPooling2D(pool_size=2),\n",
        "  keras.layers.Conv2D(filters=128, kernel_size=3, activation=\"relu\"),\n",
        "  keras.layers.Flatten(),\n",
        "  keras.layers.Dense(10, activation=\"softmax\")  # output layer consisting of 10 neurons and softmax as activation\n",
        "])\n",
        "\n",
        "model.build(input_shape=(None, 28, 28, 1))  # input consists of images of 28 x 28 pixels en 1 color channel\n",
        "model.summary()"
      ]
    },
    {
      "cell_type": "code",
      "execution_count": null,
      "metadata": {
        "id": "45oPdwOWwfE3"
      },
      "outputs": [],
      "source": [
        "model.compile(\n",
        "    loss=\"sparse_categorical_crossentropy\",  # loss function\n",
        "    optimizer=\"rmsprop\",  # optimizer\n",
        "    metrics=[\"accuracy\"]  # accuracy as metric\n",
        "  )"
      ]
    },
    {
      "cell_type": "code",
      "execution_count": null,
      "metadata": {
        "id": "hJQlNa8zwN4m"
      },
      "outputs": [],
      "source": [
        "# a convnet processes images!\n",
        "\n",
        "train_images = train_images.reshape((60000, 28, 28, 1))\n",
        "test_images = test_images.reshape((10000, 28, 28, 1))"
      ]
    },
    {
      "cell_type": "code",
      "execution_count": null,
      "metadata": {
        "id": "FjB9t04mL_GV"
      },
      "outputs": [],
      "source": [
        "model.fit(train_images, train_labels, epochs=5, batch_size=64);"
      ]
    },
    {
      "cell_type": "markdown",
      "source": [
        "Evaluating the model"
      ],
      "metadata": {
        "id": "APO-cJaXwBIo"
      }
    },
    {
      "cell_type": "code",
      "execution_count": null,
      "metadata": {
        "id": "SXdsVuHkME5d"
      },
      "outputs": [],
      "source": [
        "test_loss, test_acc = model.evaluate(test_images, test_labels)\n",
        "print(f\"accuracy on the test set: {test_acc}\")"
      ]
    },
    {
      "cell_type": "markdown",
      "source": [
        "Our own digit"
      ],
      "metadata": {
        "id": "gDoQSSuuwDlT"
      }
    },
    {
      "cell_type": "code",
      "execution_count": null,
      "metadata": {
        "id": "WDIyvqFrsi3G"
      },
      "outputs": [],
      "source": [
        "probs = model.predict(digit[np.newaxis, :, :])  # add extra dimension!\n",
        "prob = np.max(probs) * 100\n",
        "n = np.argmax(probs)\n",
        "print(f\"The convnet is for {prob:.2f} % sure that the digit is {n}!\")"
      ]
    },
    {
      "cell_type": "code",
      "source": [],
      "metadata": {
        "id": "zcp9CLnwq6rD"
      },
      "execution_count": null,
      "outputs": []
    }
  ]
}