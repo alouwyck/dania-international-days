{
  "nbformat": 4,
  "nbformat_minor": 0,
  "metadata": {
    "colab": {
      "provenance": [],
      "collapsed_sections": [
        "vUZNY65q76E0",
        "t5P5j7YD-2ek"
      ],
      "toc_visible": true,
      "include_colab_link": true
    },
    "kernelspec": {
      "name": "python3",
      "display_name": "Python 3"
    },
    "language_info": {
      "name": "python"
    }
  },
  "cells": [
    {
      "cell_type": "markdown",
      "metadata": {
        "id": "view-in-github",
        "colab_type": "text"
      },
      "source": [
        "<a href=\"https://colab.research.google.com/github/alouwyck/dania-international-days/blob/main/artificial_intelligence/Intro_to_Artificial_Intelligence.ipynb\" target=\"_parent\"><img src=\"https://colab.research.google.com/assets/colab-badge.svg\" alt=\"Open In Colab\"/></a>"
      ]
    },
    {
      "cell_type": "markdown",
      "metadata": {
        "id": "DyJxjGGXV07j"
      },
      "source": [
        "<img src=\"data:image/png;base64,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\" align=\"right\" /><br>\n",
        "\n",
        "**Dania International Days**<br>\n",
        "13 - 15 March 2024<br><br>\n",
        "Workshop by Dominique Stove & Andy Louwyck\n",
        "\n",
        "---\n",
        "\n",
        "\n",
        "\n",
        "---\n",
        "\n"
      ]
    },
    {
      "cell_type": "markdown",
      "source": [
        "# **INTRODUCTION TO ARTIFICIAL INTELLIGENCE WITH PYTHON**"
      ],
      "metadata": {
        "id": "wgl2o66IebkB"
      }
    },
    {
      "cell_type": "markdown",
      "source": [
        "## **Finding the Optimal Route**"
      ],
      "metadata": {
        "id": "pAPV7sBZZgmn"
      }
    },
    {
      "cell_type": "code",
      "source": [
        "routes = [[\"Brussels\", \"Paris\"],\n",
        "          [\"Brussels\", \"Berlin\"],\n",
        "          [\"Brussels\", \"Bern\"],\n",
        "          [\"Paris\", \"Bern\"],\n",
        "          [\"Berlin\", \"Budapest\"],\n",
        "          [\"Berlin\", \"Bern\"],\n",
        "          [\"Bern\", \"Rome\"],\n",
        "          [\"Bern\", \"Belgrade\"],\n",
        "          [\"Rome\", \"Athens\"],\n",
        "          [\"Rome\", \"Belgrade\"],\n",
        "          [\"Belgrade\", \"Bucharest\"],\n",
        "          [\"Belgrade\", \"Athens\"],\n",
        "          [\"Budapest\", \"Belgrade\"],\n",
        "          [\"Budapest\", \"Bucharest\"],\n",
        "          [\"Athens\", \"Istanbul\"],\n",
        "          [\"Bucharest\", \"Istanbul\"]]"
      ],
      "metadata": {
        "id": "NcGk5oNzQaa_"
      },
      "execution_count": 1,
      "outputs": []
    },
    {
      "cell_type": "code",
      "source": [
        "cities = {city for route in routes for city in route}\n",
        "cities"
      ],
      "metadata": {
        "colab": {
          "base_uri": "https://localhost:8080/"
        },
        "id": "Pyo3VValQ8I9",
        "outputId": "a4764821-2e9a-49d1-d5a9-568b834049e0"
      },
      "execution_count": 9,
      "outputs": [
        {
          "output_type": "execute_result",
          "data": {
            "text/plain": [
              "{'Athens',\n",
              " 'Belgrade',\n",
              " 'Berlin',\n",
              " 'Bern',\n",
              " 'Brussels',\n",
              " 'Bucharest',\n",
              " 'Budapest',\n",
              " 'Istanbul',\n",
              " 'Paris',\n",
              " 'Rome'}"
            ]
          },
          "metadata": {},
          "execution_count": 9
        }
      ]
    },
    {
      "cell_type": "code",
      "source": [
        "import geopandas\n",
        "path_to_data = geopandas.datasets.get_path(\"naturalearth_cities\")\n",
        "gdf = geopandas.read_file(path_to_data)\n",
        "gdf.head()"
      ],
      "metadata": {
        "colab": {
          "base_uri": "https://localhost:8080/",
          "height": 261
        },
        "id": "u-Cn_RuiRK17",
        "outputId": "7d30c554-72d4-4e3e-93c7-b16a747f32c1"
      },
      "execution_count": 7,
      "outputs": [
        {
          "output_type": "stream",
          "name": "stderr",
          "text": [
            "<ipython-input-7-13a9c8e676a7>:2: FutureWarning: The geopandas.dataset module is deprecated and will be removed in GeoPandas 1.0. You can get the original 'naturalearth_cities' data from https://www.naturalearthdata.com/downloads/110m-cultural-vectors/.\n",
            "  path_to_data = geopandas.datasets.get_path(\"naturalearth_cities\")\n"
          ]
        },
        {
          "output_type": "execute_result",
          "data": {
            "text/plain": [
              "           name                    geometry\n",
              "0  Vatican City   POINT (12.45339 41.90328)\n",
              "1    San Marino   POINT (12.44177 43.93610)\n",
              "2         Vaduz    POINT (9.51667 47.13372)\n",
              "3       Lobamba  POINT (31.20000 -26.46667)\n",
              "4    Luxembourg    POINT (6.13000 49.61166)"
            ],
            "text/html": [
              "\n",
              "  <div id=\"df-73e0bd4f-c806-40ed-8623-2859e9984fc1\" class=\"colab-df-container\">\n",
              "    <div>\n",
              "<style scoped>\n",
              "    .dataframe tbody tr th:only-of-type {\n",
              "        vertical-align: middle;\n",
              "    }\n",
              "\n",
              "    .dataframe tbody tr th {\n",
              "        vertical-align: top;\n",
              "    }\n",
              "\n",
              "    .dataframe thead th {\n",
              "        text-align: right;\n",
              "    }\n",
              "</style>\n",
              "<table border=\"1\" class=\"dataframe\">\n",
              "  <thead>\n",
              "    <tr style=\"text-align: right;\">\n",
              "      <th></th>\n",
              "      <th>name</th>\n",
              "      <th>geometry</th>\n",
              "    </tr>\n",
              "  </thead>\n",
              "  <tbody>\n",
              "    <tr>\n",
              "      <th>0</th>\n",
              "      <td>Vatican City</td>\n",
              "      <td>POINT (12.45339 41.90328)</td>\n",
              "    </tr>\n",
              "    <tr>\n",
              "      <th>1</th>\n",
              "      <td>San Marino</td>\n",
              "      <td>POINT (12.44177 43.93610)</td>\n",
              "    </tr>\n",
              "    <tr>\n",
              "      <th>2</th>\n",
              "      <td>Vaduz</td>\n",
              "      <td>POINT (9.51667 47.13372)</td>\n",
              "    </tr>\n",
              "    <tr>\n",
              "      <th>3</th>\n",
              "      <td>Lobamba</td>\n",
              "      <td>POINT (31.20000 -26.46667)</td>\n",
              "    </tr>\n",
              "    <tr>\n",
              "      <th>4</th>\n",
              "      <td>Luxembourg</td>\n",
              "      <td>POINT (6.13000 49.61166)</td>\n",
              "    </tr>\n",
              "  </tbody>\n",
              "</table>\n",
              "</div>\n",
              "    <div class=\"colab-df-buttons\">\n",
              "\n",
              "  <div class=\"colab-df-container\">\n",
              "    <button class=\"colab-df-convert\" onclick=\"convertToInteractive('df-73e0bd4f-c806-40ed-8623-2859e9984fc1')\"\n",
              "            title=\"Convert this dataframe to an interactive table.\"\n",
              "            style=\"display:none;\">\n",
              "\n",
              "  <svg xmlns=\"http://www.w3.org/2000/svg\" height=\"24px\" viewBox=\"0 -960 960 960\">\n",
              "    <path d=\"M120-120v-720h720v720H120Zm60-500h600v-160H180v160Zm220 220h160v-160H400v160Zm0 220h160v-160H400v160ZM180-400h160v-160H180v160Zm440 0h160v-160H620v160ZM180-180h160v-160H180v160Zm440 0h160v-160H620v160Z\"/>\n",
              "  </svg>\n",
              "    </button>\n",
              "\n",
              "  <style>\n",
              "    .colab-df-container {\n",
              "      display:flex;\n",
              "      gap: 12px;\n",
              "    }\n",
              "\n",
              "    .colab-df-convert {\n",
              "      background-color: #E8F0FE;\n",
              "      border: none;\n",
              "      border-radius: 50%;\n",
              "      cursor: pointer;\n",
              "      display: none;\n",
              "      fill: #1967D2;\n",
              "      height: 32px;\n",
              "      padding: 0 0 0 0;\n",
              "      width: 32px;\n",
              "    }\n",
              "\n",
              "    .colab-df-convert:hover {\n",
              "      background-color: #E2EBFA;\n",
              "      box-shadow: 0px 1px 2px rgba(60, 64, 67, 0.3), 0px 1px 3px 1px rgba(60, 64, 67, 0.15);\n",
              "      fill: #174EA6;\n",
              "    }\n",
              "\n",
              "    .colab-df-buttons div {\n",
              "      margin-bottom: 4px;\n",
              "    }\n",
              "\n",
              "    [theme=dark] .colab-df-convert {\n",
              "      background-color: #3B4455;\n",
              "      fill: #D2E3FC;\n",
              "    }\n",
              "\n",
              "    [theme=dark] .colab-df-convert:hover {\n",
              "      background-color: #434B5C;\n",
              "      box-shadow: 0px 1px 3px 1px rgba(0, 0, 0, 0.15);\n",
              "      filter: drop-shadow(0px 1px 2px rgba(0, 0, 0, 0.3));\n",
              "      fill: #FFFFFF;\n",
              "    }\n",
              "  </style>\n",
              "\n",
              "    <script>\n",
              "      const buttonEl =\n",
              "        document.querySelector('#df-73e0bd4f-c806-40ed-8623-2859e9984fc1 button.colab-df-convert');\n",
              "      buttonEl.style.display =\n",
              "        google.colab.kernel.accessAllowed ? 'block' : 'none';\n",
              "\n",
              "      async function convertToInteractive(key) {\n",
              "        const element = document.querySelector('#df-73e0bd4f-c806-40ed-8623-2859e9984fc1');\n",
              "        const dataTable =\n",
              "          await google.colab.kernel.invokeFunction('convertToInteractive',\n",
              "                                                    [key], {});\n",
              "        if (!dataTable) return;\n",
              "\n",
              "        const docLinkHtml = 'Like what you see? Visit the ' +\n",
              "          '<a target=\"_blank\" href=https://colab.research.google.com/notebooks/data_table.ipynb>data table notebook</a>'\n",
              "          + ' to learn more about interactive tables.';\n",
              "        element.innerHTML = '';\n",
              "        dataTable['output_type'] = 'display_data';\n",
              "        await google.colab.output.renderOutput(dataTable, element);\n",
              "        const docLink = document.createElement('div');\n",
              "        docLink.innerHTML = docLinkHtml;\n",
              "        element.appendChild(docLink);\n",
              "      }\n",
              "    </script>\n",
              "  </div>\n",
              "\n",
              "\n",
              "<div id=\"df-9c158dee-d7e9-4213-a079-49ab65474420\">\n",
              "  <button class=\"colab-df-quickchart\" onclick=\"quickchart('df-9c158dee-d7e9-4213-a079-49ab65474420')\"\n",
              "            title=\"Suggest charts\"\n",
              "            style=\"display:none;\">\n",
              "\n",
              "<svg xmlns=\"http://www.w3.org/2000/svg\" height=\"24px\"viewBox=\"0 0 24 24\"\n",
              "     width=\"24px\">\n",
              "    <g>\n",
              "        <path d=\"M19 3H5c-1.1 0-2 .9-2 2v14c0 1.1.9 2 2 2h14c1.1 0 2-.9 2-2V5c0-1.1-.9-2-2-2zM9 17H7v-7h2v7zm4 0h-2V7h2v10zm4 0h-2v-4h2v4z\"/>\n",
              "    </g>\n",
              "</svg>\n",
              "  </button>\n",
              "\n",
              "<style>\n",
              "  .colab-df-quickchart {\n",
              "      --bg-color: #E8F0FE;\n",
              "      --fill-color: #1967D2;\n",
              "      --hover-bg-color: #E2EBFA;\n",
              "      --hover-fill-color: #174EA6;\n",
              "      --disabled-fill-color: #AAA;\n",
              "      --disabled-bg-color: #DDD;\n",
              "  }\n",
              "\n",
              "  [theme=dark] .colab-df-quickchart {\n",
              "      --bg-color: #3B4455;\n",
              "      --fill-color: #D2E3FC;\n",
              "      --hover-bg-color: #434B5C;\n",
              "      --hover-fill-color: #FFFFFF;\n",
              "      --disabled-bg-color: #3B4455;\n",
              "      --disabled-fill-color: #666;\n",
              "  }\n",
              "\n",
              "  .colab-df-quickchart {\n",
              "    background-color: var(--bg-color);\n",
              "    border: none;\n",
              "    border-radius: 50%;\n",
              "    cursor: pointer;\n",
              "    display: none;\n",
              "    fill: var(--fill-color);\n",
              "    height: 32px;\n",
              "    padding: 0;\n",
              "    width: 32px;\n",
              "  }\n",
              "\n",
              "  .colab-df-quickchart:hover {\n",
              "    background-color: var(--hover-bg-color);\n",
              "    box-shadow: 0 1px 2px rgba(60, 64, 67, 0.3), 0 1px 3px 1px rgba(60, 64, 67, 0.15);\n",
              "    fill: var(--button-hover-fill-color);\n",
              "  }\n",
              "\n",
              "  .colab-df-quickchart-complete:disabled,\n",
              "  .colab-df-quickchart-complete:disabled:hover {\n",
              "    background-color: var(--disabled-bg-color);\n",
              "    fill: var(--disabled-fill-color);\n",
              "    box-shadow: none;\n",
              "  }\n",
              "\n",
              "  .colab-df-spinner {\n",
              "    border: 2px solid var(--fill-color);\n",
              "    border-color: transparent;\n",
              "    border-bottom-color: var(--fill-color);\n",
              "    animation:\n",
              "      spin 1s steps(1) infinite;\n",
              "  }\n",
              "\n",
              "  @keyframes spin {\n",
              "    0% {\n",
              "      border-color: transparent;\n",
              "      border-bottom-color: var(--fill-color);\n",
              "      border-left-color: var(--fill-color);\n",
              "    }\n",
              "    20% {\n",
              "      border-color: transparent;\n",
              "      border-left-color: var(--fill-color);\n",
              "      border-top-color: var(--fill-color);\n",
              "    }\n",
              "    30% {\n",
              "      border-color: transparent;\n",
              "      border-left-color: var(--fill-color);\n",
              "      border-top-color: var(--fill-color);\n",
              "      border-right-color: var(--fill-color);\n",
              "    }\n",
              "    40% {\n",
              "      border-color: transparent;\n",
              "      border-right-color: var(--fill-color);\n",
              "      border-top-color: var(--fill-color);\n",
              "    }\n",
              "    60% {\n",
              "      border-color: transparent;\n",
              "      border-right-color: var(--fill-color);\n",
              "    }\n",
              "    80% {\n",
              "      border-color: transparent;\n",
              "      border-right-color: var(--fill-color);\n",
              "      border-bottom-color: var(--fill-color);\n",
              "    }\n",
              "    90% {\n",
              "      border-color: transparent;\n",
              "      border-bottom-color: var(--fill-color);\n",
              "    }\n",
              "  }\n",
              "</style>\n",
              "\n",
              "  <script>\n",
              "    async function quickchart(key) {\n",
              "      const quickchartButtonEl =\n",
              "        document.querySelector('#' + key + ' button');\n",
              "      quickchartButtonEl.disabled = true;  // To prevent multiple clicks.\n",
              "      quickchartButtonEl.classList.add('colab-df-spinner');\n",
              "      try {\n",
              "        const charts = await google.colab.kernel.invokeFunction(\n",
              "            'suggestCharts', [key], {});\n",
              "      } catch (error) {\n",
              "        console.error('Error during call to suggestCharts:', error);\n",
              "      }\n",
              "      quickchartButtonEl.classList.remove('colab-df-spinner');\n",
              "      quickchartButtonEl.classList.add('colab-df-quickchart-complete');\n",
              "    }\n",
              "    (() => {\n",
              "      let quickchartButtonEl =\n",
              "        document.querySelector('#df-9c158dee-d7e9-4213-a079-49ab65474420 button');\n",
              "      quickchartButtonEl.style.display =\n",
              "        google.colab.kernel.accessAllowed ? 'block' : 'none';\n",
              "    })();\n",
              "  </script>\n",
              "</div>\n",
              "    </div>\n",
              "  </div>\n"
            ],
            "application/vnd.google.colaboratory.intrinsic+json": {
              "type": "dataframe",
              "variable_name": "gdf",
              "summary": "{\n  \"name\": \"gdf\",\n  \"rows\": 243,\n  \"fields\": [\n    {\n      \"column\": \"name\",\n      \"properties\": {\n        \"dtype\": \"string\",\n        \"num_unique_values\": 243,\n        \"samples\": [\n          \"Baguio\",\n          \"Majuro\",\n          \"Oslo\"\n        ],\n        \"semantic_type\": \"\",\n        \"description\": \"\"\n      }\n    },\n    {\n      \"column\": \"geometry\",\n      \"properties\": {\n        \"dtype\": \"geometry\",\n        \"num_unique_values\": 243,\n        \"samples\": [\n          \"POINT (120.5699426 16.4299907)\",\n          \"POINT (171.3800002 7.1030043)\",\n          \"POINT (10.7480333 59.9186361)\"\n        ],\n        \"semantic_type\": \"\",\n        \"description\": \"\"\n      }\n    }\n  ]\n}"
            }
          },
          "metadata": {},
          "execution_count": 7
        }
      ]
    },
    {
      "cell_type": "code",
      "source": [
        "gdf = gdf[gdf.name.isin(cities)]\n",
        "gdf"
      ],
      "metadata": {
        "colab": {
          "base_uri": "https://localhost:8080/",
          "height": 363
        },
        "id": "OS-5sHO-RC2d",
        "outputId": "de7e0b44-e150-49ce-bdf1-6e990c7d1399"
      },
      "execution_count": 11,
      "outputs": [
        {
          "output_type": "execute_result",
          "data": {
            "text/plain": [
              "          name                   geometry\n",
              "26        Bern   POINT (7.46698 46.91668)\n",
              "112   Belgrade  POINT (20.46604 44.82059)\n",
              "146   Budapest  POINT (19.08137 47.50195)\n",
              "148  Bucharest  POINT (26.09800 44.43532)\n",
              "170   Brussels   POINT (4.33137 50.83526)\n",
              "197     Berlin  POINT (13.39960 52.52376)\n",
              "204     Athens  POINT (23.73138 37.98527)\n",
              "220   Istanbul  POINT (28.97428 41.01760)\n",
              "226       Rome  POINT (12.48131 41.89790)\n",
              "235      Paris   POINT (2.35299 48.85809)"
            ],
            "text/html": [
              "\n",
              "  <div id=\"df-f3301417-2e4d-400f-a4a5-f05b452cb193\" class=\"colab-df-container\">\n",
              "    <div>\n",
              "<style scoped>\n",
              "    .dataframe tbody tr th:only-of-type {\n",
              "        vertical-align: middle;\n",
              "    }\n",
              "\n",
              "    .dataframe tbody tr th {\n",
              "        vertical-align: top;\n",
              "    }\n",
              "\n",
              "    .dataframe thead th {\n",
              "        text-align: right;\n",
              "    }\n",
              "</style>\n",
              "<table border=\"1\" class=\"dataframe\">\n",
              "  <thead>\n",
              "    <tr style=\"text-align: right;\">\n",
              "      <th></th>\n",
              "      <th>name</th>\n",
              "      <th>geometry</th>\n",
              "    </tr>\n",
              "  </thead>\n",
              "  <tbody>\n",
              "    <tr>\n",
              "      <th>26</th>\n",
              "      <td>Bern</td>\n",
              "      <td>POINT (7.46698 46.91668)</td>\n",
              "    </tr>\n",
              "    <tr>\n",
              "      <th>112</th>\n",
              "      <td>Belgrade</td>\n",
              "      <td>POINT (20.46604 44.82059)</td>\n",
              "    </tr>\n",
              "    <tr>\n",
              "      <th>146</th>\n",
              "      <td>Budapest</td>\n",
              "      <td>POINT (19.08137 47.50195)</td>\n",
              "    </tr>\n",
              "    <tr>\n",
              "      <th>148</th>\n",
              "      <td>Bucharest</td>\n",
              "      <td>POINT (26.09800 44.43532)</td>\n",
              "    </tr>\n",
              "    <tr>\n",
              "      <th>170</th>\n",
              "      <td>Brussels</td>\n",
              "      <td>POINT (4.33137 50.83526)</td>\n",
              "    </tr>\n",
              "    <tr>\n",
              "      <th>197</th>\n",
              "      <td>Berlin</td>\n",
              "      <td>POINT (13.39960 52.52376)</td>\n",
              "    </tr>\n",
              "    <tr>\n",
              "      <th>204</th>\n",
              "      <td>Athens</td>\n",
              "      <td>POINT (23.73138 37.98527)</td>\n",
              "    </tr>\n",
              "    <tr>\n",
              "      <th>220</th>\n",
              "      <td>Istanbul</td>\n",
              "      <td>POINT (28.97428 41.01760)</td>\n",
              "    </tr>\n",
              "    <tr>\n",
              "      <th>226</th>\n",
              "      <td>Rome</td>\n",
              "      <td>POINT (12.48131 41.89790)</td>\n",
              "    </tr>\n",
              "    <tr>\n",
              "      <th>235</th>\n",
              "      <td>Paris</td>\n",
              "      <td>POINT (2.35299 48.85809)</td>\n",
              "    </tr>\n",
              "  </tbody>\n",
              "</table>\n",
              "</div>\n",
              "    <div class=\"colab-df-buttons\">\n",
              "\n",
              "  <div class=\"colab-df-container\">\n",
              "    <button class=\"colab-df-convert\" onclick=\"convertToInteractive('df-f3301417-2e4d-400f-a4a5-f05b452cb193')\"\n",
              "            title=\"Convert this dataframe to an interactive table.\"\n",
              "            style=\"display:none;\">\n",
              "\n",
              "  <svg xmlns=\"http://www.w3.org/2000/svg\" height=\"24px\" viewBox=\"0 -960 960 960\">\n",
              "    <path d=\"M120-120v-720h720v720H120Zm60-500h600v-160H180v160Zm220 220h160v-160H400v160Zm0 220h160v-160H400v160ZM180-400h160v-160H180v160Zm440 0h160v-160H620v160ZM180-180h160v-160H180v160Zm440 0h160v-160H620v160Z\"/>\n",
              "  </svg>\n",
              "    </button>\n",
              "\n",
              "  <style>\n",
              "    .colab-df-container {\n",
              "      display:flex;\n",
              "      gap: 12px;\n",
              "    }\n",
              "\n",
              "    .colab-df-convert {\n",
              "      background-color: #E8F0FE;\n",
              "      border: none;\n",
              "      border-radius: 50%;\n",
              "      cursor: pointer;\n",
              "      display: none;\n",
              "      fill: #1967D2;\n",
              "      height: 32px;\n",
              "      padding: 0 0 0 0;\n",
              "      width: 32px;\n",
              "    }\n",
              "\n",
              "    .colab-df-convert:hover {\n",
              "      background-color: #E2EBFA;\n",
              "      box-shadow: 0px 1px 2px rgba(60, 64, 67, 0.3), 0px 1px 3px 1px rgba(60, 64, 67, 0.15);\n",
              "      fill: #174EA6;\n",
              "    }\n",
              "\n",
              "    .colab-df-buttons div {\n",
              "      margin-bottom: 4px;\n",
              "    }\n",
              "\n",
              "    [theme=dark] .colab-df-convert {\n",
              "      background-color: #3B4455;\n",
              "      fill: #D2E3FC;\n",
              "    }\n",
              "\n",
              "    [theme=dark] .colab-df-convert:hover {\n",
              "      background-color: #434B5C;\n",
              "      box-shadow: 0px 1px 3px 1px rgba(0, 0, 0, 0.15);\n",
              "      filter: drop-shadow(0px 1px 2px rgba(0, 0, 0, 0.3));\n",
              "      fill: #FFFFFF;\n",
              "    }\n",
              "  </style>\n",
              "\n",
              "    <script>\n",
              "      const buttonEl =\n",
              "        document.querySelector('#df-f3301417-2e4d-400f-a4a5-f05b452cb193 button.colab-df-convert');\n",
              "      buttonEl.style.display =\n",
              "        google.colab.kernel.accessAllowed ? 'block' : 'none';\n",
              "\n",
              "      async function convertToInteractive(key) {\n",
              "        const element = document.querySelector('#df-f3301417-2e4d-400f-a4a5-f05b452cb193');\n",
              "        const dataTable =\n",
              "          await google.colab.kernel.invokeFunction('convertToInteractive',\n",
              "                                                    [key], {});\n",
              "        if (!dataTable) return;\n",
              "\n",
              "        const docLinkHtml = 'Like what you see? Visit the ' +\n",
              "          '<a target=\"_blank\" href=https://colab.research.google.com/notebooks/data_table.ipynb>data table notebook</a>'\n",
              "          + ' to learn more about interactive tables.';\n",
              "        element.innerHTML = '';\n",
              "        dataTable['output_type'] = 'display_data';\n",
              "        await google.colab.output.renderOutput(dataTable, element);\n",
              "        const docLink = document.createElement('div');\n",
              "        docLink.innerHTML = docLinkHtml;\n",
              "        element.appendChild(docLink);\n",
              "      }\n",
              "    </script>\n",
              "  </div>\n",
              "\n",
              "\n",
              "<div id=\"df-ff33548d-b787-450c-979f-443acf81192c\">\n",
              "  <button class=\"colab-df-quickchart\" onclick=\"quickchart('df-ff33548d-b787-450c-979f-443acf81192c')\"\n",
              "            title=\"Suggest charts\"\n",
              "            style=\"display:none;\">\n",
              "\n",
              "<svg xmlns=\"http://www.w3.org/2000/svg\" height=\"24px\"viewBox=\"0 0 24 24\"\n",
              "     width=\"24px\">\n",
              "    <g>\n",
              "        <path d=\"M19 3H5c-1.1 0-2 .9-2 2v14c0 1.1.9 2 2 2h14c1.1 0 2-.9 2-2V5c0-1.1-.9-2-2-2zM9 17H7v-7h2v7zm4 0h-2V7h2v10zm4 0h-2v-4h2v4z\"/>\n",
              "    </g>\n",
              "</svg>\n",
              "  </button>\n",
              "\n",
              "<style>\n",
              "  .colab-df-quickchart {\n",
              "      --bg-color: #E8F0FE;\n",
              "      --fill-color: #1967D2;\n",
              "      --hover-bg-color: #E2EBFA;\n",
              "      --hover-fill-color: #174EA6;\n",
              "      --disabled-fill-color: #AAA;\n",
              "      --disabled-bg-color: #DDD;\n",
              "  }\n",
              "\n",
              "  [theme=dark] .colab-df-quickchart {\n",
              "      --bg-color: #3B4455;\n",
              "      --fill-color: #D2E3FC;\n",
              "      --hover-bg-color: #434B5C;\n",
              "      --hover-fill-color: #FFFFFF;\n",
              "      --disabled-bg-color: #3B4455;\n",
              "      --disabled-fill-color: #666;\n",
              "  }\n",
              "\n",
              "  .colab-df-quickchart {\n",
              "    background-color: var(--bg-color);\n",
              "    border: none;\n",
              "    border-radius: 50%;\n",
              "    cursor: pointer;\n",
              "    display: none;\n",
              "    fill: var(--fill-color);\n",
              "    height: 32px;\n",
              "    padding: 0;\n",
              "    width: 32px;\n",
              "  }\n",
              "\n",
              "  .colab-df-quickchart:hover {\n",
              "    background-color: var(--hover-bg-color);\n",
              "    box-shadow: 0 1px 2px rgba(60, 64, 67, 0.3), 0 1px 3px 1px rgba(60, 64, 67, 0.15);\n",
              "    fill: var(--button-hover-fill-color);\n",
              "  }\n",
              "\n",
              "  .colab-df-quickchart-complete:disabled,\n",
              "  .colab-df-quickchart-complete:disabled:hover {\n",
              "    background-color: var(--disabled-bg-color);\n",
              "    fill: var(--disabled-fill-color);\n",
              "    box-shadow: none;\n",
              "  }\n",
              "\n",
              "  .colab-df-spinner {\n",
              "    border: 2px solid var(--fill-color);\n",
              "    border-color: transparent;\n",
              "    border-bottom-color: var(--fill-color);\n",
              "    animation:\n",
              "      spin 1s steps(1) infinite;\n",
              "  }\n",
              "\n",
              "  @keyframes spin {\n",
              "    0% {\n",
              "      border-color: transparent;\n",
              "      border-bottom-color: var(--fill-color);\n",
              "      border-left-color: var(--fill-color);\n",
              "    }\n",
              "    20% {\n",
              "      border-color: transparent;\n",
              "      border-left-color: var(--fill-color);\n",
              "      border-top-color: var(--fill-color);\n",
              "    }\n",
              "    30% {\n",
              "      border-color: transparent;\n",
              "      border-left-color: var(--fill-color);\n",
              "      border-top-color: var(--fill-color);\n",
              "      border-right-color: var(--fill-color);\n",
              "    }\n",
              "    40% {\n",
              "      border-color: transparent;\n",
              "      border-right-color: var(--fill-color);\n",
              "      border-top-color: var(--fill-color);\n",
              "    }\n",
              "    60% {\n",
              "      border-color: transparent;\n",
              "      border-right-color: var(--fill-color);\n",
              "    }\n",
              "    80% {\n",
              "      border-color: transparent;\n",
              "      border-right-color: var(--fill-color);\n",
              "      border-bottom-color: var(--fill-color);\n",
              "    }\n",
              "    90% {\n",
              "      border-color: transparent;\n",
              "      border-bottom-color: var(--fill-color);\n",
              "    }\n",
              "  }\n",
              "</style>\n",
              "\n",
              "  <script>\n",
              "    async function quickchart(key) {\n",
              "      const quickchartButtonEl =\n",
              "        document.querySelector('#' + key + ' button');\n",
              "      quickchartButtonEl.disabled = true;  // To prevent multiple clicks.\n",
              "      quickchartButtonEl.classList.add('colab-df-spinner');\n",
              "      try {\n",
              "        const charts = await google.colab.kernel.invokeFunction(\n",
              "            'suggestCharts', [key], {});\n",
              "      } catch (error) {\n",
              "        console.error('Error during call to suggestCharts:', error);\n",
              "      }\n",
              "      quickchartButtonEl.classList.remove('colab-df-spinner');\n",
              "      quickchartButtonEl.classList.add('colab-df-quickchart-complete');\n",
              "    }\n",
              "    (() => {\n",
              "      let quickchartButtonEl =\n",
              "        document.querySelector('#df-ff33548d-b787-450c-979f-443acf81192c button');\n",
              "      quickchartButtonEl.style.display =\n",
              "        google.colab.kernel.accessAllowed ? 'block' : 'none';\n",
              "    })();\n",
              "  </script>\n",
              "</div>\n",
              "    </div>\n",
              "  </div>\n"
            ],
            "application/vnd.google.colaboratory.intrinsic+json": {
              "type": "dataframe",
              "variable_name": "gdf",
              "summary": "{\n  \"name\": \"gdf\",\n  \"rows\": 10,\n  \"fields\": [\n    {\n      \"column\": \"name\",\n      \"properties\": {\n        \"dtype\": \"string\",\n        \"num_unique_values\": 10,\n        \"samples\": [\n          \"Rome\",\n          \"Belgrade\",\n          \"Berlin\"\n        ],\n        \"semantic_type\": \"\",\n        \"description\": \"\"\n      }\n    },\n    {\n      \"column\": \"geometry\",\n      \"properties\": {\n        \"dtype\": \"geometry\",\n        \"num_unique_values\": 10,\n        \"samples\": [\n          \"POINT (12.4813126 41.8979015)\",\n          \"POINT (20.4660448 44.8205913)\",\n          \"POINT (13.3996028 52.5237645)\"\n        ],\n        \"semantic_type\": \"\",\n        \"description\": \"\"\n      }\n    }\n  ]\n}"
            }
          },
          "metadata": {},
          "execution_count": 11
        }
      ]
    },
    {
      "cell_type": "code",
      "source": [
        "import geopy.distance\n",
        "\n",
        "def distance(city1, city2):\n",
        "    # city1 and city2 are shapely.geometry.point.Point objects\n",
        "    lat1, lon1 = city1.y, city1.x\n",
        "    lat2, lon2 = city2.y, city2.x\n",
        "    return int(geopy.distance.geodesic((lat1, lon1), (lat2, lon2)).meters / 1000)  # distance in km"
      ],
      "metadata": {
        "id": "thDXoj7UQity"
      },
      "execution_count": 8,
      "outputs": []
    },
    {
      "cell_type": "code",
      "source": [
        "departure, destination = \"Brussels\", \"Istanbul\""
      ],
      "metadata": {
        "id": "8i_xsPpsRAdV"
      },
      "execution_count": 10,
      "outputs": []
    },
    {
      "cell_type": "code",
      "source": [
        "from matplotlib import pyplot as plt\n",
        "\n",
        "# create figure and axes\n",
        "_, ax = plt.subplots(1, 1);\n",
        "\n",
        "# plot map\n",
        "map = geopandas.read_file(geopandas.datasets.get_path(\"naturalearth_lowres\"))\n",
        "map.plot(color='lightblue', ax=ax);\n",
        "map.boundary.plot(color='gray', ax=ax);\n",
        "\n",
        "# plot cities\n",
        "gdf.plot(color='black', ax=ax);\n",
        "start = gdf[gdf.name==departure].geometry.iloc[0]\n",
        "stop = gdf[gdf.name==destination].geometry.iloc[0]\n",
        "plt.plot(start.x, start.y, 'go', stop.x, stop.y, 'ro');\n",
        "\n",
        "# plot routes\n",
        "for route in routes:\n",
        "    city1 = gdf[gdf.name==route[0]].geometry.iloc[0]\n",
        "    city2 = gdf[gdf.name==route[1]].geometry.iloc[0]\n",
        "    plt.plot((city1.x, city2.x), (city1.y, city2.y), 'k-');\n",
        "\n",
        "# zoom in on Europe\n",
        "plt.xlim((-10, 40));\n",
        "plt.ylim((35, 60));"
      ],
      "metadata": {
        "colab": {
          "base_uri": "https://localhost:8080/",
          "height": 473
        },
        "id": "WIWOcqC9RWmP",
        "outputId": "7450cf6d-507f-481b-e7be-ddd72c982888"
      },
      "execution_count": 12,
      "outputs": [
        {
          "output_type": "stream",
          "name": "stderr",
          "text": [
            "<ipython-input-12-b9ec56001841>:7: FutureWarning: The geopandas.dataset module is deprecated and will be removed in GeoPandas 1.0. You can get the original 'naturalearth_lowres' data from https://www.naturalearthdata.com/downloads/110m-cultural-vectors/.\n",
            "  map = geopandas.read_file(geopandas.datasets.get_path(\"naturalearth_lowres\"))\n"
          ]
        },
        {
          "output_type": "display_data",
          "data": {
            "text/plain": [
              "<Figure size 640x480 with 1 Axes>"
            ],
            "image/png": "[encoded data removed]"
          },
          "metadata": {}
        }
      ]
    },
    {
      "cell_type": "code",
      "source": [
        "coordinates = {city[1]['name']: (city[1].geometry.x, city[1].geometry.y)\n",
        "               for city in gdf[['name', 'geometry']].iterrows()}\n",
        "coordinates"
      ],
      "metadata": {
        "colab": {
          "base_uri": "https://localhost:8080/"
        },
        "id": "jTQO-A9nReHE",
        "outputId": "0a7bf5cc-26bd-4d8c-b070-bb07320b19e8"
      },
      "execution_count": 18,
      "outputs": [
        {
          "output_type": "execute_result",
          "data": {
            "text/plain": [
              "{'Bern': (7.4669755, 46.9166828),\n",
              " 'Belgrade': (20.4660448, 44.8205913),\n",
              " 'Budapest': (19.0813748, 47.5019522),\n",
              " 'Bucharest': (26.0980008, 44.4353177),\n",
              " 'Brussels': (4.3313707, 50.8352629),\n",
              " 'Berlin': (13.3996028, 52.5237645),\n",
              " 'Athens': (23.7313752, 37.9852721),\n",
              " 'Istanbul': (28.97427681675554, 41.01760173507249),\n",
              " 'Rome': (12.4813126, 41.8979015),\n",
              " 'Paris': (2.3529924615392135, 48.85809231626911)}"
            ]
          },
          "metadata": {},
          "execution_count": 18
        }
      ]
    },
    {
      "cell_type": "code",
      "source": [
        "edges = []\n",
        "for route in routes:\n",
        "    city1, city2 = route[0], route[1]\n",
        "    dist = distance(gdf[gdf.name==city1].geometry.iloc[0],\n",
        "                    gdf[gdf.name==city2].geometry.iloc[0])\n",
        "    edges.append((city1, city2, dist))\n",
        "edges"
      ],
      "metadata": {
        "colab": {
          "base_uri": "https://localhost:8080/"
        },
        "id": "lOUCR5pERgYC",
        "outputId": "1fd004dc-8d70-4d2d-a97e-18d4c1791fa1"
      },
      "execution_count": 14,
      "outputs": [
        {
          "output_type": "execute_result",
          "data": {
            "text/plain": [
              "[('Brussels', 'Paris', 261),\n",
              " ('Brussels', 'Berlin', 654),\n",
              " ('Brussels', 'Bern', 492),\n",
              " ('Paris', 'Bern', 439),\n",
              " ('Berlin', 'Budapest', 690),\n",
              " ('Berlin', 'Bern', 755),\n",
              " ('Bern', 'Rome', 685),\n",
              " ('Bern', 'Belgrade', 1034),\n",
              " ('Rome', 'Athens', 1053),\n",
              " ('Rome', 'Belgrade', 723),\n",
              " ('Belgrade', 'Bucharest', 448),\n",
              " ('Belgrade', 'Athens', 806),\n",
              " ('Budapest', 'Belgrade', 316),\n",
              " ('Budapest', 'Bucharest', 641),\n",
              " ('Athens', 'Istanbul', 562),\n",
              " ('Bucharest', 'Istanbul', 446)]"
            ]
          },
          "metadata": {},
          "execution_count": 14
        }
      ]
    },
    {
      "cell_type": "code",
      "source": [
        "heuristic = {city: int(distance(gdf[gdf.name==city].geometry.iloc[0],\n",
        "                                gdf[gdf.name==destination].geometry.iloc[0]))\n",
        "             for city in cities}\n",
        "heuristic"
      ],
      "metadata": {
        "colab": {
          "base_uri": "https://localhost:8080/"
        },
        "id": "EtVQSliSRkO2",
        "outputId": "ee0e779c-c06f-42f9-b272-b0c689e1aab5"
      },
      "execution_count": 15,
      "outputs": [
        {
          "output_type": "execute_result",
          "data": {
            "text/plain": [
              "{'Rome': 1379,\n",
              " 'Belgrade': 812,\n",
              " 'Budapest': 1067,\n",
              " 'Paris': 2259,\n",
              " 'Bucharest': 446,\n",
              " 'Istanbul': 0,\n",
              " 'Athens': 562,\n",
              " 'Bern': 1838,\n",
              " 'Brussels': 2185,\n",
              " 'Berlin': 1739}"
            ]
          },
          "metadata": {},
          "execution_count": 15
        }
      ]
    },
    {
      "cell_type": "code",
      "source": [
        "import networkx as nx\n",
        "\n",
        "G = nx.Graph()\n",
        "for node, h in heuristic.items():\n",
        "    G.add_node(node, h=h)\n",
        "for edge in edges:\n",
        "    G.add_edge(edge[0], edge[1], cost=edge[2])"
      ],
      "metadata": {
        "id": "SmwtZhrWRptv"
      },
      "execution_count": 17,
      "outputs": []
    },
    {
      "cell_type": "code",
      "source": [
        "labels = {node: node + \"\\n\" + str(h) for node, h in nx.get_node_attributes(G, 'h').items()}  # h toevoegen aan de node labels\n",
        "nx.draw(G, coordinates, labels=labels, node_size=750, node_color=\"y\")\n",
        "nx.draw_networkx_edge_labels(\n",
        "    G, coordinates, nx.get_edge_attributes(G, 'cost')\n",
        ");"
      ],
      "metadata": {
        "colab": {
          "base_uri": "https://localhost:8080/",
          "height": 516
        },
        "id": "gETcIGQ8Sg6O",
        "outputId": "7f3970e0-aba7-4374-a634-067d28579b24"
      },
      "execution_count": 19,
      "outputs": [
        {
          "output_type": "display_data",
          "data": {
            "text/plain": [
              "<Figure size 640x480 with 1 Axes>"
            ],
            "image/png": "[encoded data removed]"
          },
          "metadata": {}
        }
      ]
    },
    {
      "cell_type": "code",
      "source": [
        "from networkx.algorithms.shortest_paths import astar_path, astar_path_length\n",
        "\n",
        "print(astar_path(G, source=departure, target=destination, weight=\"cost\"))\n",
        "print(astar_path_length(G, source=departure, target=destination, weight=\"cost\"))"
      ],
      "metadata": {
        "colab": {
          "base_uri": "https://localhost:8080/"
        },
        "id": "gS1dV6PYSz-p",
        "outputId": "05c2b209-eb44-4369-c6da-fbfafd8dc67e"
      },
      "execution_count": 22,
      "outputs": [
        {
          "output_type": "stream",
          "name": "stdout",
          "text": [
            "['Brussels', 'Bern', 'Belgrade', 'Bucharest', 'Istanbul']\n",
            "2420\n"
          ]
        }
      ]
    },
    {
      "cell_type": "markdown",
      "source": [
        "## **Regression**"
      ],
      "metadata": {
        "id": "D4zVeTl2v4un"
      }
    },
    {
      "cell_type": "markdown",
      "source": [
        "Regression is also a type of **supervised learning**, but in this case, it is used to **predict quantitative variables**, such as house prices."
      ],
      "metadata": {
        "id": "tSCF5-LU8hpA"
      }
    },
    {
      "cell_type": "markdown",
      "source": [
        "To illustrate how regression works, the `'Student_Marks.csv'` dataset is used. It can be downloaded from [Kaggle](https://www.kaggle.com/datasets/yasserh/student-marks-dataset), a popular online platform for data science and machine learning competitions, collaboration, and learning. The dataset is also used in a [paper](https://www.researchgate.net/publication/367540229_Study_of_the_Association_between_Study_Time_and_Final_Grades) published in the Journal of Education, Humanities and Social Sciences.\n",
        "\n"
      ],
      "metadata": {
        "id": "2Ta8L28mU5FD"
      }
    },
    {
      "cell_type": "code",
      "source": [
        "import pandas as pd\n",
        "df = pd.read_csv('Student_Marks.csv')\n",
        "df.head()  # show the first 5 records"
      ],
      "metadata": {
        "colab": {
          "base_uri": "https://localhost:8080/",
          "height": 206
        },
        "id": "GFbCAuFJU9Iq",
        "outputId": "b26d1505-8c3e-4987-b651-5bd0199de331"
      },
      "execution_count": null,
      "outputs": [
        {
          "output_type": "execute_result",
          "data": {
            "text/plain": [
              "   number_courses  time_study   Marks\n",
              "0               3       4.508  19.202\n",
              "1               4       0.096   7.734\n",
              "2               4       3.133  13.811\n",
              "3               6       7.909  53.018\n",
              "4               8       7.811  55.299"
            ],
            "text/html": [
              "\n",
              "  <div id=\"df-c82c3568-21b6-435d-9253-caba69e4cdbb\" class=\"colab-df-container\">\n",
              "    <div>\n",
              "<style scoped>\n",
              "    .dataframe tbody tr th:only-of-type {\n",
              "        vertical-align: middle;\n",
              "    }\n",
              "\n",
              "    .dataframe tbody tr th {\n",
              "        vertical-align: top;\n",
              "    }\n",
              "\n",
              "    .dataframe thead th {\n",
              "        text-align: right;\n",
              "    }\n",
              "</style>\n",
              "<table border=\"1\" class=\"dataframe\">\n",
              "  <thead>\n",
              "    <tr style=\"text-align: right;\">\n",
              "      <th></th>\n",
              "      <th>number_courses</th>\n",
              "      <th>time_study</th>\n",
              "      <th>Marks</th>\n",
              "    </tr>\n",
              "  </thead>\n",
              "  <tbody>\n",
              "    <tr>\n",
              "      <th>0</th>\n",
              "      <td>3</td>\n",
              "      <td>4.508</td>\n",
              "      <td>19.202</td>\n",
              "    </tr>\n",
              "    <tr>\n",
              "      <th>1</th>\n",
              "      <td>4</td>\n",
              "      <td>0.096</td>\n",
              "      <td>7.734</td>\n",
              "    </tr>\n",
              "    <tr>\n",
              "      <th>2</th>\n",
              "      <td>4</td>\n",
              "      <td>3.133</td>\n",
              "      <td>13.811</td>\n",
              "    </tr>\n",
              "    <tr>\n",
              "      <th>3</th>\n",
              "      <td>6</td>\n",
              "      <td>7.909</td>\n",
              "      <td>53.018</td>\n",
              "    </tr>\n",
              "    <tr>\n",
              "      <th>4</th>\n",
              "      <td>8</td>\n",
              "      <td>7.811</td>\n",
              "      <td>55.299</td>\n",
              "    </tr>\n",
              "  </tbody>\n",
              "</table>\n",
              "</div>\n",
              "    <div class=\"colab-df-buttons\">\n",
              "\n",
              "  <div class=\"colab-df-container\">\n",
              "    <button class=\"colab-df-convert\" onclick=\"convertToInteractive('df-c82c3568-21b6-435d-9253-caba69e4cdbb')\"\n",
              "            title=\"Convert this dataframe to an interactive table.\"\n",
              "            style=\"display:none;\">\n",
              "\n",
              "  <svg xmlns=\"http://www.w3.org/2000/svg\" height=\"24px\" viewBox=\"0 -960 960 960\">\n",
              "    <path d=\"M120-120v-720h720v720H120Zm60-500h600v-160H180v160Zm220 220h160v-160H400v160Zm0 220h160v-160H400v160ZM180-400h160v-160H180v160Zm440 0h160v-160H620v160ZM180-180h160v-160H180v160Zm440 0h160v-160H620v160Z\"/>\n",
              "  </svg>\n",
              "    </button>\n",
              "\n",
              "  <style>\n",
              "    .colab-df-container {\n",
              "      display:flex;\n",
              "      gap: 12px;\n",
              "    }\n",
              "\n",
              "    .colab-df-convert {\n",
              "      background-color: #E8F0FE;\n",
              "      border: none;\n",
              "      border-radius: 50%;\n",
              "      cursor: pointer;\n",
              "      display: none;\n",
              "      fill: #1967D2;\n",
              "      height: 32px;\n",
              "      padding: 0 0 0 0;\n",
              "      width: 32px;\n",
              "    }\n",
              "\n",
              "    .colab-df-convert:hover {\n",
              "      background-color: #E2EBFA;\n",
              "      box-shadow: 0px 1px 2px rgba(60, 64, 67, 0.3), 0px 1px 3px 1px rgba(60, 64, 67, 0.15);\n",
              "      fill: #174EA6;\n",
              "    }\n",
              "\n",
              "    .colab-df-buttons div {\n",
              "      margin-bottom: 4px;\n",
              "    }\n",
              "\n",
              "    [theme=dark] .colab-df-convert {\n",
              "      background-color: #3B4455;\n",
              "      fill: #D2E3FC;\n",
              "    }\n",
              "\n",
              "    [theme=dark] .colab-df-convert:hover {\n",
              "      background-color: #434B5C;\n",
              "      box-shadow: 0px 1px 3px 1px rgba(0, 0, 0, 0.15);\n",
              "      filter: drop-shadow(0px 1px 2px rgba(0, 0, 0, 0.3));\n",
              "      fill: #FFFFFF;\n",
              "    }\n",
              "  </style>\n",
              "\n",
              "    <script>\n",
              "      const buttonEl =\n",
              "        document.querySelector('#df-c82c3568-21b6-435d-9253-caba69e4cdbb button.colab-df-convert');\n",
              "      buttonEl.style.display =\n",
              "        google.colab.kernel.accessAllowed ? 'block' : 'none';\n",
              "\n",
              "      async function convertToInteractive(key) {\n",
              "        const element = document.querySelector('#df-c82c3568-21b6-435d-9253-caba69e4cdbb');\n",
              "        const dataTable =\n",
              "          await google.colab.kernel.invokeFunction('convertToInteractive',\n",
              "                                                    [key], {});\n",
              "        if (!dataTable) return;\n",
              "\n",
              "        const docLinkHtml = 'Like what you see? Visit the ' +\n",
              "          '<a target=\"_blank\" href=https://colab.research.google.com/notebooks/data_table.ipynb>data table notebook</a>'\n",
              "          + ' to learn more about interactive tables.';\n",
              "        element.innerHTML = '';\n",
              "        dataTable['output_type'] = 'display_data';\n",
              "        await google.colab.output.renderOutput(dataTable, element);\n",
              "        const docLink = document.createElement('div');\n",
              "        docLink.innerHTML = docLinkHtml;\n",
              "        element.appendChild(docLink);\n",
              "      }\n",
              "    </script>\n",
              "  </div>\n",
              "\n",
              "\n",
              "<div id=\"df-b2d9559a-989c-41fe-ab1c-83d5053cb18e\">\n",
              "  <button class=\"colab-df-quickchart\" onclick=\"quickchart('df-b2d9559a-989c-41fe-ab1c-83d5053cb18e')\"\n",
              "            title=\"Suggest charts\"\n",
              "            style=\"display:none;\">\n",
              "\n",
              "<svg xmlns=\"http://www.w3.org/2000/svg\" height=\"24px\"viewBox=\"0 0 24 24\"\n",
              "     width=\"24px\">\n",
              "    <g>\n",
              "        <path d=\"M19 3H5c-1.1 0-2 .9-2 2v14c0 1.1.9 2 2 2h14c1.1 0 2-.9 2-2V5c0-1.1-.9-2-2-2zM9 17H7v-7h2v7zm4 0h-2V7h2v10zm4 0h-2v-4h2v4z\"/>\n",
              "    </g>\n",
              "</svg>\n",
              "  </button>\n",
              "\n",
              "<style>\n",
              "  .colab-df-quickchart {\n",
              "      --bg-color: #E8F0FE;\n",
              "      --fill-color: #1967D2;\n",
              "      --hover-bg-color: #E2EBFA;\n",
              "      --hover-fill-color: #174EA6;\n",
              "      --disabled-fill-color: #AAA;\n",
              "      --disabled-bg-color: #DDD;\n",
              "  }\n",
              "\n",
              "  [theme=dark] .colab-df-quickchart {\n",
              "      --bg-color: #3B4455;\n",
              "      --fill-color: #D2E3FC;\n",
              "      --hover-bg-color: #434B5C;\n",
              "      --hover-fill-color: #FFFFFF;\n",
              "      --disabled-bg-color: #3B4455;\n",
              "      --disabled-fill-color: #666;\n",
              "  }\n",
              "\n",
              "  .colab-df-quickchart {\n",
              "    background-color: var(--bg-color);\n",
              "    border: none;\n",
              "    border-radius: 50%;\n",
              "    cursor: pointer;\n",
              "    display: none;\n",
              "    fill: var(--fill-color);\n",
              "    height: 32px;\n",
              "    padding: 0;\n",
              "    width: 32px;\n",
              "  }\n",
              "\n",
              "  .colab-df-quickchart:hover {\n",
              "    background-color: var(--hover-bg-color);\n",
              "    box-shadow: 0 1px 2px rgba(60, 64, 67, 0.3), 0 1px 3px 1px rgba(60, 64, 67, 0.15);\n",
              "    fill: var(--button-hover-fill-color);\n",
              "  }\n",
              "\n",
              "  .colab-df-quickchart-complete:disabled,\n",
              "  .colab-df-quickchart-complete:disabled:hover {\n",
              "    background-color: var(--disabled-bg-color);\n",
              "    fill: var(--disabled-fill-color);\n",
              "    box-shadow: none;\n",
              "  }\n",
              "\n",
              "  .colab-df-spinner {\n",
              "    border: 2px solid var(--fill-color);\n",
              "    border-color: transparent;\n",
              "    border-bottom-color: var(--fill-color);\n",
              "    animation:\n",
              "      spin 1s steps(1) infinite;\n",
              "  }\n",
              "\n",
              "  @keyframes spin {\n",
              "    0% {\n",
              "      border-color: transparent;\n",
              "      border-bottom-color: var(--fill-color);\n",
              "      border-left-color: var(--fill-color);\n",
              "    }\n",
              "    20% {\n",
              "      border-color: transparent;\n",
              "      border-left-color: var(--fill-color);\n",
              "      border-top-color: var(--fill-color);\n",
              "    }\n",
              "    30% {\n",
              "      border-color: transparent;\n",
              "      border-left-color: var(--fill-color);\n",
              "      border-top-color: var(--fill-color);\n",
              "      border-right-color: var(--fill-color);\n",
              "    }\n",
              "    40% {\n",
              "      border-color: transparent;\n",
              "      border-right-color: var(--fill-color);\n",
              "      border-top-color: var(--fill-color);\n",
              "    }\n",
              "    60% {\n",
              "      border-color: transparent;\n",
              "      border-right-color: var(--fill-color);\n",
              "    }\n",
              "    80% {\n",
              "      border-color: transparent;\n",
              "      border-right-color: var(--fill-color);\n",
              "      border-bottom-color: var(--fill-color);\n",
              "    }\n",
              "    90% {\n",
              "      border-color: transparent;\n",
              "      border-bottom-color: var(--fill-color);\n",
              "    }\n",
              "  }\n",
              "</style>\n",
              "\n",
              "  <script>\n",
              "    async function quickchart(key) {\n",
              "      const quickchartButtonEl =\n",
              "        document.querySelector('#' + key + ' button');\n",
              "      quickchartButtonEl.disabled = true;  // To prevent multiple clicks.\n",
              "      quickchartButtonEl.classList.add('colab-df-spinner');\n",
              "      try {\n",
              "        const charts = await google.colab.kernel.invokeFunction(\n",
              "            'suggestCharts', [key], {});\n",
              "      } catch (error) {\n",
              "        console.error('Error during call to suggestCharts:', error);\n",
              "      }\n",
              "      quickchartButtonEl.classList.remove('colab-df-spinner');\n",
              "      quickchartButtonEl.classList.add('colab-df-quickchart-complete');\n",
              "    }\n",
              "    (() => {\n",
              "      let quickchartButtonEl =\n",
              "        document.querySelector('#df-b2d9559a-989c-41fe-ab1c-83d5053cb18e button');\n",
              "      quickchartButtonEl.style.display =\n",
              "        google.colab.kernel.accessAllowed ? 'block' : 'none';\n",
              "    })();\n",
              "  </script>\n",
              "</div>\n",
              "    </div>\n",
              "  </div>\n"
            ],
            "application/vnd.google.colaboratory.intrinsic+json": {
              "type": "dataframe",
              "variable_name": "df",
              "summary": "{\n  \"name\": \"df\",\n  \"rows\": 100,\n  \"fields\": [\n    {\n      \"column\": \"number_courses\",\n      \"properties\": {\n        \"dtype\": \"number\",\n        \"std\": 1,\n        \"min\": 3,\n        \"max\": 8,\n        \"samples\": [\n          3,\n          4,\n          7\n        ],\n        \"num_unique_values\": 6,\n        \"semantic_type\": \"\",\n        \"description\": \"\"\n      }\n    },\n    {\n      \"column\": \"time_study\",\n      \"properties\": {\n        \"dtype\": \"number\",\n        \"std\": 2.372914144202772,\n        \"min\": 0.096,\n        \"max\": 7.957,\n        \"samples\": [\n          3.197,\n          6.049,\n          3.736\n        ],\n        \"num_unique_values\": 100,\n        \"semantic_type\": \"\",\n        \"description\": \"\"\n      }\n    },\n    {\n      \"column\": \"Marks\",\n      \"properties\": {\n        \"dtype\": \"number\",\n        \"std\": 14.326198570757976,\n        \"min\": 5.609,\n        \"max\": 55.299,\n        \"samples\": [\n          16.106,\n          36.653,\n          16.606\n        ],\n        \"num_unique_values\": 100,\n        \"semantic_type\": \"\",\n        \"description\": \"\"\n      }\n    }\n  ]\n}"
            }
          },
          "metadata": {},
          "execution_count": 5
        }
      ]
    },
    {
      "cell_type": "markdown",
      "source": [
        "Recall the `describe()` method provides a statistical summary of the DataFrame:"
      ],
      "metadata": {
        "id": "QZMXp5W8_xYz"
      }
    },
    {
      "cell_type": "code",
      "source": [
        "df.describe().T  # T transposes the resulting table"
      ],
      "metadata": {
        "colab": {
          "base_uri": "https://localhost:8080/",
          "height": 143
        },
        "id": "ohVxZ_dUAMKC",
        "outputId": "23673463-e6e2-4c35-c7b6-369997b97f0d"
      },
      "execution_count": null,
      "outputs": [
        {
          "output_type": "execute_result",
          "data": {
            "text/plain": [
              "                count      mean        std    min      25%      50%       75%  \\\n",
              "number_courses  100.0   5.29000   1.799523  3.000   4.0000   5.0000   7.00000   \n",
              "time_study      100.0   4.07714   2.372914  0.096   2.0585   4.0220   6.17925   \n",
              "Marks           100.0  24.41769  14.326199  5.609  12.6330  20.0595  36.67625   \n",
              "\n",
              "                   max  \n",
              "number_courses   8.000  \n",
              "time_study       7.957  \n",
              "Marks           55.299  "
            ],
            "text/html": [
              "\n",
              "  <div id=\"df-fa6bc592-d446-42e8-a130-19634c0e7a2e\" class=\"colab-df-container\">\n",
              "    <div>\n",
              "<style scoped>\n",
              "    .dataframe tbody tr th:only-of-type {\n",
              "        vertical-align: middle;\n",
              "    }\n",
              "\n",
              "    .dataframe tbody tr th {\n",
              "        vertical-align: top;\n",
              "    }\n",
              "\n",
              "    .dataframe thead th {\n",
              "        text-align: right;\n",
              "    }\n",
              "</style>\n",
              "<table border=\"1\" class=\"dataframe\">\n",
              "  <thead>\n",
              "    <tr style=\"text-align: right;\">\n",
              "      <th></th>\n",
              "      <th>count</th>\n",
              "      <th>mean</th>\n",
              "      <th>std</th>\n",
              "      <th>min</th>\n",
              "      <th>25%</th>\n",
              "      <th>50%</th>\n",
              "      <th>75%</th>\n",
              "      <th>max</th>\n",
              "    </tr>\n",
              "  </thead>\n",
              "  <tbody>\n",
              "    <tr>\n",
              "      <th>number_courses</th>\n",
              "      <td>100.0</td>\n",
              "      <td>5.29000</td>\n",
              "      <td>1.799523</td>\n",
              "      <td>3.000</td>\n",
              "      <td>4.0000</td>\n",
              "      <td>5.0000</td>\n",
              "      <td>7.00000</td>\n",
              "      <td>8.000</td>\n",
              "    </tr>\n",
              "    <tr>\n",
              "      <th>time_study</th>\n",
              "      <td>100.0</td>\n",
              "      <td>4.07714</td>\n",
              "      <td>2.372914</td>\n",
              "      <td>0.096</td>\n",
              "      <td>2.0585</td>\n",
              "      <td>4.0220</td>\n",
              "      <td>6.17925</td>\n",
              "      <td>7.957</td>\n",
              "    </tr>\n",
              "    <tr>\n",
              "      <th>Marks</th>\n",
              "      <td>100.0</td>\n",
              "      <td>24.41769</td>\n",
              "      <td>14.326199</td>\n",
              "      <td>5.609</td>\n",
              "      <td>12.6330</td>\n",
              "      <td>20.0595</td>\n",
              "      <td>36.67625</td>\n",
              "      <td>55.299</td>\n",
              "    </tr>\n",
              "  </tbody>\n",
              "</table>\n",
              "</div>\n",
              "    <div class=\"colab-df-buttons\">\n",
              "\n",
              "  <div class=\"colab-df-container\">\n",
              "    <button class=\"colab-df-convert\" onclick=\"convertToInteractive('df-fa6bc592-d446-42e8-a130-19634c0e7a2e')\"\n",
              "            title=\"Convert this dataframe to an interactive table.\"\n",
              "            style=\"display:none;\">\n",
              "\n",
              "  <svg xmlns=\"http://www.w3.org/2000/svg\" height=\"24px\" viewBox=\"0 -960 960 960\">\n",
              "    <path d=\"M120-120v-720h720v720H120Zm60-500h600v-160H180v160Zm220 220h160v-160H400v160Zm0 220h160v-160H400v160ZM180-400h160v-160H180v160Zm440 0h160v-160H620v160ZM180-180h160v-160H180v160Zm440 0h160v-160H620v160Z\"/>\n",
              "  </svg>\n",
              "    </button>\n",
              "\n",
              "  <style>\n",
              "    .colab-df-container {\n",
              "      display:flex;\n",
              "      gap: 12px;\n",
              "    }\n",
              "\n",
              "    .colab-df-convert {\n",
              "      background-color: #E8F0FE;\n",
              "      border: none;\n",
              "      border-radius: 50%;\n",
              "      cursor: pointer;\n",
              "      display: none;\n",
              "      fill: #1967D2;\n",
              "      height: 32px;\n",
              "      padding: 0 0 0 0;\n",
              "      width: 32px;\n",
              "    }\n",
              "\n",
              "    .colab-df-convert:hover {\n",
              "      background-color: #E2EBFA;\n",
              "      box-shadow: 0px 1px 2px rgba(60, 64, 67, 0.3), 0px 1px 3px 1px rgba(60, 64, 67, 0.15);\n",
              "      fill: #174EA6;\n",
              "    }\n",
              "\n",
              "    .colab-df-buttons div {\n",
              "      margin-bottom: 4px;\n",
              "    }\n",
              "\n",
              "    [theme=dark] .colab-df-convert {\n",
              "      background-color: #3B4455;\n",
              "      fill: #D2E3FC;\n",
              "    }\n",
              "\n",
              "    [theme=dark] .colab-df-convert:hover {\n",
              "      background-color: #434B5C;\n",
              "      box-shadow: 0px 1px 3px 1px rgba(0, 0, 0, 0.15);\n",
              "      filter: drop-shadow(0px 1px 2px rgba(0, 0, 0, 0.3));\n",
              "      fill: #FFFFFF;\n",
              "    }\n",
              "  </style>\n",
              "\n",
              "    <script>\n",
              "      const buttonEl =\n",
              "        document.querySelector('#df-fa6bc592-d446-42e8-a130-19634c0e7a2e button.colab-df-convert');\n",
              "      buttonEl.style.display =\n",
              "        google.colab.kernel.accessAllowed ? 'block' : 'none';\n",
              "\n",
              "      async function convertToInteractive(key) {\n",
              "        const element = document.querySelector('#df-fa6bc592-d446-42e8-a130-19634c0e7a2e');\n",
              "        const dataTable =\n",
              "          await google.colab.kernel.invokeFunction('convertToInteractive',\n",
              "                                                    [key], {});\n",
              "        if (!dataTable) return;\n",
              "\n",
              "        const docLinkHtml = 'Like what you see? Visit the ' +\n",
              "          '<a target=\"_blank\" href=https://colab.research.google.com/notebooks/data_table.ipynb>data table notebook</a>'\n",
              "          + ' to learn more about interactive tables.';\n",
              "        element.innerHTML = '';\n",
              "        dataTable['output_type'] = 'display_data';\n",
              "        await google.colab.output.renderOutput(dataTable, element);\n",
              "        const docLink = document.createElement('div');\n",
              "        docLink.innerHTML = docLinkHtml;\n",
              "        element.appendChild(docLink);\n",
              "      }\n",
              "    </script>\n",
              "  </div>\n",
              "\n",
              "\n",
              "<div id=\"df-abd934ee-7435-4afa-b1ea-5480ebfa6e6c\">\n",
              "  <button class=\"colab-df-quickchart\" onclick=\"quickchart('df-abd934ee-7435-4afa-b1ea-5480ebfa6e6c')\"\n",
              "            title=\"Suggest charts\"\n",
              "            style=\"display:none;\">\n",
              "\n",
              "<svg xmlns=\"http://www.w3.org/2000/svg\" height=\"24px\"viewBox=\"0 0 24 24\"\n",
              "     width=\"24px\">\n",
              "    <g>\n",
              "        <path d=\"M19 3H5c-1.1 0-2 .9-2 2v14c0 1.1.9 2 2 2h14c1.1 0 2-.9 2-2V5c0-1.1-.9-2-2-2zM9 17H7v-7h2v7zm4 0h-2V7h2v10zm4 0h-2v-4h2v4z\"/>\n",
              "    </g>\n",
              "</svg>\n",
              "  </button>\n",
              "\n",
              "<style>\n",
              "  .colab-df-quickchart {\n",
              "      --bg-color: #E8F0FE;\n",
              "      --fill-color: #1967D2;\n",
              "      --hover-bg-color: #E2EBFA;\n",
              "      --hover-fill-color: #174EA6;\n",
              "      --disabled-fill-color: #AAA;\n",
              "      --disabled-bg-color: #DDD;\n",
              "  }\n",
              "\n",
              "  [theme=dark] .colab-df-quickchart {\n",
              "      --bg-color: #3B4455;\n",
              "      --fill-color: #D2E3FC;\n",
              "      --hover-bg-color: #434B5C;\n",
              "      --hover-fill-color: #FFFFFF;\n",
              "      --disabled-bg-color: #3B4455;\n",
              "      --disabled-fill-color: #666;\n",
              "  }\n",
              "\n",
              "  .colab-df-quickchart {\n",
              "    background-color: var(--bg-color);\n",
              "    border: none;\n",
              "    border-radius: 50%;\n",
              "    cursor: pointer;\n",
              "    display: none;\n",
              "    fill: var(--fill-color);\n",
              "    height: 32px;\n",
              "    padding: 0;\n",
              "    width: 32px;\n",
              "  }\n",
              "\n",
              "  .colab-df-quickchart:hover {\n",
              "    background-color: var(--hover-bg-color);\n",
              "    box-shadow: 0 1px 2px rgba(60, 64, 67, 0.3), 0 1px 3px 1px rgba(60, 64, 67, 0.15);\n",
              "    fill: var(--button-hover-fill-color);\n",
              "  }\n",
              "\n",
              "  .colab-df-quickchart-complete:disabled,\n",
              "  .colab-df-quickchart-complete:disabled:hover {\n",
              "    background-color: var(--disabled-bg-color);\n",
              "    fill: var(--disabled-fill-color);\n",
              "    box-shadow: none;\n",
              "  }\n",
              "\n",
              "  .colab-df-spinner {\n",
              "    border: 2px solid var(--fill-color);\n",
              "    border-color: transparent;\n",
              "    border-bottom-color: var(--fill-color);\n",
              "    animation:\n",
              "      spin 1s steps(1) infinite;\n",
              "  }\n",
              "\n",
              "  @keyframes spin {\n",
              "    0% {\n",
              "      border-color: transparent;\n",
              "      border-bottom-color: var(--fill-color);\n",
              "      border-left-color: var(--fill-color);\n",
              "    }\n",
              "    20% {\n",
              "      border-color: transparent;\n",
              "      border-left-color: var(--fill-color);\n",
              "      border-top-color: var(--fill-color);\n",
              "    }\n",
              "    30% {\n",
              "      border-color: transparent;\n",
              "      border-left-color: var(--fill-color);\n",
              "      border-top-color: var(--fill-color);\n",
              "      border-right-color: var(--fill-color);\n",
              "    }\n",
              "    40% {\n",
              "      border-color: transparent;\n",
              "      border-right-color: var(--fill-color);\n",
              "      border-top-color: var(--fill-color);\n",
              "    }\n",
              "    60% {\n",
              "      border-color: transparent;\n",
              "      border-right-color: var(--fill-color);\n",
              "    }\n",
              "    80% {\n",
              "      border-color: transparent;\n",
              "      border-right-color: var(--fill-color);\n",
              "      border-bottom-color: var(--fill-color);\n",
              "    }\n",
              "    90% {\n",
              "      border-color: transparent;\n",
              "      border-bottom-color: var(--fill-color);\n",
              "    }\n",
              "  }\n",
              "</style>\n",
              "\n",
              "  <script>\n",
              "    async function quickchart(key) {\n",
              "      const quickchartButtonEl =\n",
              "        document.querySelector('#' + key + ' button');\n",
              "      quickchartButtonEl.disabled = true;  // To prevent multiple clicks.\n",
              "      quickchartButtonEl.classList.add('colab-df-spinner');\n",
              "      try {\n",
              "        const charts = await google.colab.kernel.invokeFunction(\n",
              "            'suggestCharts', [key], {});\n",
              "      } catch (error) {\n",
              "        console.error('Error during call to suggestCharts:', error);\n",
              "      }\n",
              "      quickchartButtonEl.classList.remove('colab-df-spinner');\n",
              "      quickchartButtonEl.classList.add('colab-df-quickchart-complete');\n",
              "    }\n",
              "    (() => {\n",
              "      let quickchartButtonEl =\n",
              "        document.querySelector('#df-abd934ee-7435-4afa-b1ea-5480ebfa6e6c button');\n",
              "      quickchartButtonEl.style.display =\n",
              "        google.colab.kernel.accessAllowed ? 'block' : 'none';\n",
              "    })();\n",
              "  </script>\n",
              "</div>\n",
              "    </div>\n",
              "  </div>\n"
            ],
            "application/vnd.google.colaboratory.intrinsic+json": {
              "type": "dataframe",
              "summary": "{\n  \"name\": \"df\",\n  \"rows\": 3,\n  \"fields\": [\n    {\n      \"column\": \"count\",\n      \"properties\": {\n        \"dtype\": \"number\",\n        \"std\": 0.0,\n        \"min\": 100.0,\n        \"max\": 100.0,\n        \"samples\": [\n          100.0\n        ],\n        \"num_unique_values\": 1,\n        \"semantic_type\": \"\",\n        \"description\": \"\"\n      }\n    },\n    {\n      \"column\": \"mean\",\n      \"properties\": {\n        \"dtype\": \"number\",\n        \"std\": 11.409626990822266,\n        \"min\": 4.07714,\n        \"max\": 24.417689999999997,\n        \"samples\": [\n          5.29\n        ],\n        \"num_unique_values\": 3,\n        \"semantic_type\": \"\",\n        \"description\": \"\"\n      }\n    },\n    {\n      \"column\": \"std\",\n      \"properties\": {\n        \"dtype\": \"number\",\n        \"std\": 7.072568937944486,\n        \"min\": 1.7995229446391698,\n        \"max\": 14.326198570757976,\n        \"samples\": [\n          1.7995229446391698\n        ],\n        \"num_unique_values\": 3,\n        \"semantic_type\": \"\",\n        \"description\": \"\"\n      }\n    },\n    {\n      \"column\": \"min\",\n      \"properties\": {\n        \"dtype\": \"number\",\n        \"std\": 2.7578151376285778,\n        \"min\": 0.096,\n        \"max\": 5.609,\n        \"samples\": [\n          3.0\n        ],\n        \"num_unique_values\": 3,\n        \"semantic_type\": \"\",\n        \"description\": \"\"\n      }\n    },\n    {\n      \"column\": \"25%\",\n      \"properties\": {\n        \"dtype\": \"number\",\n        \"std\": 5.629063887539383,\n        \"min\": 2.0585,\n        \"max\": 12.633,\n        \"samples\": [\n          4.0\n        ],\n        \"num_unique_values\": 3,\n        \"semantic_type\": \"\",\n        \"description\": \"\"\n      }\n    },\n    {\n      \"column\": \"50%\",\n      \"properties\": {\n        \"dtype\": \"number\",\n        \"std\": 8.990239434149311,\n        \"min\": 4.022,\n        \"max\": 20.0595,\n        \"samples\": [\n          5.0\n        ],\n        \"num_unique_values\": 3,\n        \"semantic_type\": \"\",\n        \"description\": \"\"\n      }\n    },\n    {\n      \"column\": \"75%\",\n      \"properties\": {\n        \"dtype\": \"number\",\n        \"std\": 17.375367879198986,\n        \"min\": 6.17925,\n        \"max\": 36.676249999999996,\n        \"samples\": [\n          7.0\n        ],\n        \"num_unique_values\": 3,\n        \"semantic_type\": \"\",\n        \"description\": \"\"\n      }\n    },\n    {\n      \"column\": \"max\",\n      \"properties\": {\n        \"dtype\": \"number\",\n        \"std\": 27.320511872949965,\n        \"min\": 7.957,\n        \"max\": 55.299,\n        \"samples\": [\n          8.0\n        ],\n        \"num_unique_values\": 3,\n        \"semantic_type\": \"\",\n        \"description\": \"\"\n      }\n    }\n  ]\n}"
            }
          },
          "metadata": {},
          "execution_count": 6
        }
      ]
    },
    {
      "cell_type": "markdown",
      "source": [
        "There are 100 samples and 3 features. Here, we want to predict the students' marks from the time they studied. So `'time_study'` is the independent variable, and `'Marks'` is the dependent variable or **target**.\n",
        "\n",
        "Let's first make a scatterplot to visualize the relation between these two variables:"
      ],
      "metadata": {
        "id": "ExQtyVDLBIU4"
      }
    },
    {
      "cell_type": "code",
      "source": [
        "df.plot.scatter(x='time_study', y='Marks');\n",
        "plt.grid();"
      ],
      "metadata": {
        "colab": {
          "base_uri": "https://localhost:8080/",
          "height": 361
        },
        "id": "TN_A-nWjByvC",
        "outputId": "51882307-f9d6-4d97-fee6-9e6b8bc24415"
      },
      "execution_count": null,
      "outputs": [
        {
          "output_type": "display_data",
          "data": {
            "text/plain": [
              "<Figure size 512x384 with 1 Axes>"
            ],
            "image/png": "[encoded data removed]"
          },
          "metadata": {}
        }
      ]
    },
    {
      "cell_type": "markdown",
      "source": [
        "We clearly see the marks increase with the study time!"
      ],
      "metadata": {
        "id": "HM0Gl_SLy7-q"
      }
    },
    {
      "cell_type": "markdown",
      "source": [
        "### Simple Linear Regression"
      ],
      "metadata": {
        "id": "cKNiY0TmpGyo"
      }
    },
    {
      "cell_type": "markdown",
      "source": [
        "Let's assume a **linear relation** between the study time, which we denote by $x$, and the marks, which we denote by $y$. Mathematically, this relation is expressed as follows:\n",
        "\n",
        "> $y = ax + b$\n",
        "\n",
        "where $a$ and $b$ are **parameters**. Note that this function expresses a straight line characterized by slope $a$ and intercept $b$. The parameters are derived by minimizing the squared differences between true marks $y$ and predicted marks $\\hat{y}$:\n",
        "\n",
        "> $L = \\sum_{i=1}^n (y_i - \\hat{y}_i)^2$\n",
        "\n",
        "with $n$ the number of samples. $L$ is called the **loss function**. It is common to normalize the loss score by dividing it by the number of samples $n$, in which case it is called the **mean squared error** (MSE). Note that the difference between true and predicted value is called the **residual**."
      ],
      "metadata": {
        "id": "eGNVb5OAB9qz"
      }
    },
    {
      "cell_type": "markdown",
      "source": [
        "Finding the optimal values for parameters $a$ and $b$ is called **simple linear regression**. It can be performed very easily using Scikit-Learn class `LinearRegression`:"
      ],
      "metadata": {
        "id": "cWYngpYpELvf"
      }
    },
    {
      "cell_type": "code",
      "source": [
        "from sklearn.linear_model import LinearRegression\n",
        "\n",
        "X, y = df[['time_study']].values, df.Marks.values  # feature X, target y\n",
        "\n",
        "model = LinearRegression()  # instantiate class\n",
        "model.fit(X, y)  # fit data\n",
        "model.score(X, y)  # R² score"
      ],
      "metadata": {
        "colab": {
          "base_uri": "https://localhost:8080/"
        },
        "id": "BwrLF_n3EpNs",
        "outputId": "44d1f3b1-bb97-42e7-8f58-6a474aa4dc83"
      },
      "execution_count": null,
      "outputs": [
        {
          "output_type": "execute_result",
          "data": {
            "text/plain": [
              "0.8878423939061949"
            ]
          },
          "metadata": {},
          "execution_count": 8
        }
      ]
    },
    {
      "cell_type": "markdown",
      "source": [
        "We get a **R² score** of 0.89 which indicates the fit is relatively good. The coefficient of determination R² is always a value between 0 and 1, and the closer to 1, the better the fit.\n",
        "\n",
        "Let's add the derived regression line to the scatter plot:"
      ],
      "metadata": {
        "id": "UhHR2QthFA4P"
      }
    },
    {
      "cell_type": "code",
      "source": [
        "df.plot.scatter(x='time_study', y='Marks');\n",
        "xline = np.array([[0, 8]]).T  # must be 2D matrix!\n",
        "yline = model.predict(xline)  # predict regression line\n",
        "plt.plot(xline, yline, 'r-');\n",
        "plt.grid();"
      ],
      "metadata": {
        "colab": {
          "base_uri": "https://localhost:8080/",
          "height": 361
        },
        "id": "7thFLD4OFu6H",
        "outputId": "d1c1fe81-660f-4fae-ffd1-c57ee581b577"
      },
      "execution_count": null,
      "outputs": [
        {
          "output_type": "display_data",
          "data": {
            "text/plain": [
              "<Figure size 512x384 with 1 Axes>"
            ],
            "image/png": "[encoded data removed]"
          },
          "metadata": {}
        }
      ]
    },
    {
      "cell_type": "markdown",
      "source": [
        "Note that we created the regression line by predicting the `y`-values for `x = [0, 8]`. And what do we see? Well, the regression line is a good fit indeed. But can we do better?"
      ],
      "metadata": {
        "id": "z-0_5SgEpPTz"
      }
    },
    {
      "cell_type": "markdown",
      "source": [
        "### Polynomial Regression"
      ],
      "metadata": {
        "id": "yZlm9lSIpQHZ"
      }
    },
    {
      "cell_type": "markdown",
      "source": [
        "Let's try **polynomial regression** which results in a curve that is not a straight line. The relation between $x$ and $y$ is non-linear in this case, and it is expressed by the following polynomial function:\n",
        "\n",
        "> $y = b + a_1x + a_2x^2 + ... + a_nx^n = b + \\sum_{i=1}^{n}a_ix^i$\n",
        "\n",
        "where parameters $a_i$ and $b$, also called the **coefficients**, are derived again by minimizing an error function. The highest power $n$ is the **degree** of the polynomial. Note that $n=1$ in case of simple linear regression."
      ],
      "metadata": {
        "id": "s-lgb6UjGNZu"
      }
    },
    {
      "cell_type": "markdown",
      "source": [
        "We may use the Scikit-Learn's `PolynomialFeatures` class to preprocess feature `X`, but using NumPy function `polyfit()` is more straightforward. Let's try a polynomial of degree 2:"
      ],
      "metadata": {
        "id": "lVbll2JAI6Zh"
      }
    },
    {
      "cell_type": "code",
      "source": [
        "import numpy as np\n",
        "X = X.flatten()               # polyfit wants 1D array!\n",
        "a = np.polyfit(X, y, deg=2)  # polynomial fit of degree 2"
      ],
      "metadata": {
        "id": "Mq6Qon88JjTj"
      },
      "execution_count": null,
      "outputs": []
    },
    {
      "cell_type": "markdown",
      "source": [
        "Using function `polyval()` the predictions can be calculated:"
      ],
      "metadata": {
        "id": "2P5Hf-XMJ120"
      }
    },
    {
      "cell_type": "code",
      "source": [
        "from sklearn.metrics import r2_score  # import function to calculate R² score\n",
        "\n",
        "yp = np.polyval(a, X)          # predictions\n",
        "r2_score(y_true=y, y_pred=yp)  # R² score"
      ],
      "metadata": {
        "colab": {
          "base_uri": "https://localhost:8080/"
        },
        "id": "3cBEwa9DKCwc",
        "outputId": "d0846e00-c5f2-4178-e1a1-5b1c82daba05"
      },
      "execution_count": null,
      "outputs": [
        {
          "output_type": "execute_result",
          "data": {
            "text/plain": [
              "0.9626851117937791"
            ]
          },
          "metadata": {},
          "execution_count": 12
        }
      ]
    },
    {
      "cell_type": "markdown",
      "source": [
        "We achieve a mean difference of 2.59 between the true and predicted marks when estimating students' performance based on the hours they have studied. Let's plot the resulting regression curve:"
      ],
      "metadata": {
        "id": "0H7ynTPWYm6l"
      }
    },
    {
      "cell_type": "code",
      "source": [
        "df.plot.scatter(x='time_study', y='Marks');\n",
        "xplot = np.linspace(0, 8, 100)\n",
        "plt.plot(xplot, np.polyval(a, xplot), 'r-');\n",
        "plt.grid();"
      ],
      "metadata": {
        "colab": {
          "base_uri": "https://localhost:8080/",
          "height": 361
        },
        "id": "uUiNFuNk32CW",
        "outputId": "c06ca2b6-1c5b-44ce-c853-4fc9cf5678ff"
      },
      "execution_count": null,
      "outputs": [
        {
          "output_type": "display_data",
          "data": {
            "text/plain": [
              "<Figure size 512x384 with 1 Axes>"
            ],
            "image/png": "[encoded data removed]"
          },
          "metadata": {}
        }
      ]
    },
    {
      "cell_type": "markdown",
      "source": [
        "The red polynomial function of degree 2 is a better fit than the best fitting straight line obtained from linear regression. On the other hand, it appears to be less affected by irregularities in the data than a high-degree polynomial fit is affected. In conclusion, it captures well the general relationship between students' study time and marks!"
      ],
      "metadata": {
        "id": "QpEFr7VdZgc6"
      }
    },
    {
      "cell_type": "markdown",
      "source": [
        "It is common practice to create a third dataset, the **test set**, which is used to evaluate the final model. While some hyperparameters are fine-tuned using the validation set, information may still leak from this set into the model. The test set remains free from any such information leaks, providing an excellent means to evaluate the model's performance on completely new data. Only when this final evaluation using the test set yields positive results can the model be confidently deployed."
      ],
      "metadata": {
        "id": "9WSK70ImcGGD"
      }
    },
    {
      "cell_type": "markdown",
      "metadata": {
        "id": "lLelnAcFLGio"
      },
      "source": [
        "## **Image Classification**"
      ]
    },
    {
      "cell_type": "markdown",
      "metadata": {
        "id": "OM_y_J7U13BE"
      },
      "source": [
        "Neural networks are also very successful in **computer vision**. In particular, **convolutional networks** (CNNs or convnets) have proven to be very efficient in recognizing patterns in images. In this notebook, we will demonstrate this with a classic example of **image classification**: classifying the handwritten digits from the MNIST dataset.\n",
        "\n",
        "First we will train a network with traditional dense layers on the dataset, after which we will try to improve the performance by using a network with convolutional layers. The neurons in such a layer do not calculate a weighted sum, but apply a mathematical operation called convolution. The same operation is also used, for example, to make photos blurrier or sharper. Think about applying filters in Instagram. Simply put, a convnet derives by itself the best filters from the given images, which allows for \"recognizing\" lines, colors, textures and objects. Based on that, it can classify the images."
      ]
    },
    {
      "cell_type": "markdown",
      "metadata": {
        "id": "ZnU0flbH2rTB"
      },
      "source": [
        "Discussing the very technical details of neural networks is not within the scope of this workshop. Here, we just want you to experience the power and efficiency of neural networks. The example of classifying handwritten digits could be regarded as the 'hello world' of deep learning for computer vision. So, prepare yourself and set your hardware accelerator to GPU! (In Google Colab you can do this in the \"Edit > Notebook settings\" menu)."
      ]
    },
    {
      "cell_type": "markdown",
      "metadata": {
        "id": "eGjCy3KyjYLe"
      },
      "source": [
        "###MNIST dataset"
      ]
    },
    {
      "cell_type": "markdown",
      "metadata": {
        "id": "oNX-zgQm53HQ"
      },
      "source": [
        "The [MNIST dataset](https://en.wikipedia.org/wiki/MNIST_database) of handwritten digits is available with Keras and can be downloaded from `datasets.mnist`:"
      ]
    },
    {
      "cell_type": "code",
      "execution_count": null,
      "metadata": {
        "id": "wS7CyBWSoBOw",
        "colab": {
          "base_uri": "https://localhost:8080/"
        },
        "outputId": "54c6769c-5b0e-411a-a2dd-e23ff01bcd94"
      },
      "outputs": [
        {
          "output_type": "stream",
          "name": "stdout",
          "text": [
            "Downloading data from https://storage.googleapis.com/tensorflow/tf-keras-datasets/mnist.npz\n",
            "11490434/11490434 [==============================] - 0s 0us/step\n"
          ]
        }
      ],
      "source": [
        "from keras.datasets import mnist\n",
        "\n",
        "(train_images, train_labels), (test_images, test_labels) = mnist.load_data()"
      ]
    },
    {
      "cell_type": "markdown",
      "metadata": {
        "id": "Qfd_w2Hf6Nxc"
      },
      "source": [
        "We notice 2 things:\n",
        "\n",
        "- The dataset is divided into a training set and a test set according to the best machine learning practices. We only train models on the training set, and afterwards evaluate them using the test set.\n",
        "- Image classification, like all other classification tasks, is a kind of *supervised learning*. So we need not only the images but also the associated labels.\n",
        "\n",
        "Let's check how many examples are in the dataset:"
      ]
    },
    {
      "cell_type": "code",
      "execution_count": null,
      "metadata": {
        "colab": {
          "base_uri": "https://localhost:8080/"
        },
        "id": "RHcKrqEd6o0T",
        "outputId": "04fcd5a3-10b2-401c-8326-9cedff21cfe9"
      },
      "outputs": [
        {
          "output_type": "stream",
          "name": "stdout",
          "text": [
            "The training set constains 60000 images\n",
            "The test set contains 10000 images\n"
          ]
        }
      ],
      "source": [
        "print(f\"The training set constains {len(train_images)} images\")\n",
        "print(f\"The test set contains {len(test_images)} images\")"
      ]
    },
    {
      "cell_type": "markdown",
      "metadata": {
        "id": "xasZff8q61O2"
      },
      "source": [
        "A total of 70,000 images... That's a lot bigger than the datasets from most of our previous examples, and it is even bigger than the IMDB dataset! Now let's take a look at how the dataset is constructed. As an example, let's take the fifth image from the training set:"
      ]
    },
    {
      "cell_type": "code",
      "execution_count": null,
      "metadata": {
        "colab": {
          "base_uri": "https://localhost:8080/",
          "height": 452
        },
        "id": "MWP2VkwgrbeN",
        "outputId": "349de1c4-58a9-4e9c-f57c-b335522ebd0f"
      },
      "outputs": [
        {
          "output_type": "display_data",
          "data": {
            "text/plain": [
              "<Figure size 640x480 with 1 Axes>"
            ],
            "image/png": "[encoded data removed]"
          },
          "metadata": {}
        }
      ],
      "source": [
        "digit = train_images[4]  # 5th image (index 4!)\n",
        "plt.imshow(digit, cmap=plt.cm.binary)  # plot image\n",
        "plt.title(f\"Label: {train_labels[4]}\");  # label for 5th image"
      ]
    },
    {
      "cell_type": "markdown",
      "source": [
        "It's interesting to notice that these images are actually NumPy arrays:"
      ],
      "metadata": {
        "id": "8KizCX8pupDY"
      }
    },
    {
      "cell_type": "code",
      "source": [
        "type(digit)"
      ],
      "metadata": {
        "colab": {
          "base_uri": "https://localhost:8080/"
        },
        "id": "VqKvTOJhugx1",
        "outputId": "ec5b89fc-9eca-49c2-cd0c-e9cb18b07899"
      },
      "execution_count": null,
      "outputs": [
        {
          "output_type": "execute_result",
          "data": {
            "text/plain": [
              "numpy.ndarray"
            ]
          },
          "metadata": {},
          "execution_count": 41
        }
      ]
    },
    {
      "cell_type": "markdown",
      "source": [
        "The images have a size of 28 by 28 pixels:"
      ],
      "metadata": {
        "id": "2X9hOuv-u0yu"
      }
    },
    {
      "cell_type": "code",
      "source": [
        "digit.shape"
      ],
      "metadata": {
        "colab": {
          "base_uri": "https://localhost:8080/"
        },
        "id": "e-LKFw26u25S",
        "outputId": "d09a6475-56a6-42e2-8783-16e83f832849"
      },
      "execution_count": null,
      "outputs": [
        {
          "output_type": "execute_result",
          "data": {
            "text/plain": [
              "(28, 28)"
            ]
          },
          "metadata": {},
          "execution_count": 42
        }
      ]
    },
    {
      "cell_type": "markdown",
      "metadata": {
        "id": "009JOWMs8-WP"
      },
      "source": [
        "They are black and white images, so there is only one channel for the gray scale. RGB images, for instance, have three channels: one for red (R), one for blue (B), and one for green (G). These images would be 3D arrays. The data type of the elements is `uint8`, which stands for unsigned integer of 8 bits:"
      ]
    },
    {
      "cell_type": "code",
      "source": [
        "digit.dtype"
      ],
      "metadata": {
        "colab": {
          "base_uri": "https://localhost:8080/"
        },
        "id": "W_A03fr-vKw-",
        "outputId": "663fa7ee-d86a-472b-8992-9dedb4613600"
      },
      "execution_count": null,
      "outputs": [
        {
          "output_type": "execute_result",
          "data": {
            "text/plain": [
              "dtype('uint8')"
            ]
          },
          "metadata": {},
          "execution_count": 43
        }
      ]
    },
    {
      "cell_type": "markdown",
      "source": [
        "Unsigned means that all elements are positive, and 8 bit implies there are $2^8$ or 256 possible values. As 0 is included, the maximum value is 255:"
      ],
      "metadata": {
        "id": "0pBST-ZBvN4L"
      }
    },
    {
      "cell_type": "code",
      "source": [
        "digit.min(), digit.max()"
      ],
      "metadata": {
        "colab": {
          "base_uri": "https://localhost:8080/"
        },
        "id": "BlCIF_OGvNSD",
        "outputId": "8c1f04a1-6d64-4a1b-c0b9-ca755cd79f4f"
      },
      "execution_count": null,
      "outputs": [
        {
          "output_type": "execute_result",
          "data": {
            "text/plain": [
              "(0, 255)"
            ]
          },
          "metadata": {},
          "execution_count": 44
        }
      ]
    },
    {
      "cell_type": "markdown",
      "source": [
        "Each pixel is a feature and so we need to \"reshape\" the images. In other words, we need to put all the pixels of an image one after the other, so that they form one long row. Then we put the different images below each other and so we get a 'table' with in the rows the examples, here the images, and in the columns the features, here the 28 x 28 = 784 pixels.\n",
        "\n",
        "In addition, we must normalize the pixel values to floats between 0 and 1. We do that simply by dividing the values by 255:"
      ],
      "metadata": {
        "id": "p4J2zte8vDMv"
      }
    },
    {
      "cell_type": "code",
      "execution_count": null,
      "metadata": {
        "id": "kaKDkXL7pho1"
      },
      "outputs": [],
      "source": [
        "train_images = train_images.reshape((60000, 28 * 28))  # reshape\n",
        "train_images = train_images.astype(\"float32\") / 255  # normalize and convert to float\n",
        "test_images = test_images.reshape((10000, 28 * 28))  # reshape\n",
        "test_images = test_images.astype(\"float32\") / 255  # normalize and convert to float"
      ]
    },
    {
      "cell_type": "markdown",
      "metadata": {
        "id": "7NaXVnIVwm62"
      },
      "source": [
        "### Our own handwritten digit"
      ]
    },
    {
      "cell_type": "markdown",
      "metadata": {
        "id": "FoTPtXF-OEkj"
      },
      "source": [
        "The proof of the pudding is in the eating, so we saved our own handwritten digit as an image `\"digit.png\"`. We read the image using the static method `open` of class `Image` from the Pillow library, which we imported as `PIL`. We then get an `Image` object that we can \"resize\" to 28 by 28 pixels and convert to a black and white image. Since an image is actually an array containing the pixel values, we can convert it to a NumPy array, whose values we can easily convert to float values between 0 and 1:"
      ]
    },
    {
      "cell_type": "code",
      "execution_count": null,
      "metadata": {
        "colab": {
          "base_uri": "https://localhost:8080/",
          "height": 430
        },
        "id": "EmOSq0Vfsc66",
        "outputId": "80c2d220-06e6-4eb5-92b5-558a0f1211f1"
      },
      "outputs": [
        {
          "output_type": "display_data",
          "data": {
            "text/plain": [
              "<Figure size 640x480 with 1 Axes>"
            ],
            "image/png": "[encoded data removed]"
          },
          "metadata": {}
        }
      ],
      "source": [
        "import PIL  # Python image library\n",
        "digit = PIL.Image.open(\"digit.png\")  # read image\n",
        "digit = digit.resize((28, 28))  # resize image to 28 x 28\n",
        "digit = digit.convert('L')  # convert image to black and white (L = luminance)\n",
        "digit = np.array(digit)  # convert image to numpy array\n",
        "digit = 255 - digit  # turn black into whihte and white in to black\n",
        "digit = digit.astype(\"float32\") / 255.0  # normalize array\n",
        "plt.imshow(digit, cmap=plt.cm.binary);  # plot digit"
      ]
    },
    {
      "cell_type": "markdown",
      "metadata": {
        "id": "43zEVWQeRHim"
      },
      "source": [
        "That looks fine! Wondering if our neural networks will recognize the digit...."
      ]
    },
    {
      "cell_type": "markdown",
      "metadata": {
        "id": "OHPmIfqXG6mf"
      },
      "source": [
        "### Dense neural network"
      ]
    },
    {
      "cell_type": "markdown",
      "metadata": {
        "id": "7LcFq5IIR_dt"
      },
      "source": [
        "We will now first build a network consisting of 'classical' `Dense` layers. We instantiate a so-called `Sequential` model that consists of a sequence of layers. We will define 3 layers:\n",
        "\n",
        "- The *input layer* that accepts the converted images. The input size is thus `(None, 784)`, where the `None` refers to the number of images processed during one iteration of the algorithm. That number is called the *batch size*.\n",
        "- A *hidden layer* that consists of 512 neurons and applies `\"relu\"` (rectified linear unit) as the activation function.\n",
        "- The *output layer* that consists of 10 neurons because we have 10 classes. There are 10 classes because there are 10 digits: from 0 to 9. So each neuron in the output layer corresponds to a digit. The `\"softmax\"` activation function lets each neuron in the output layer return a probability as output. The neuron with the highest probability indicates the digit that the model predicts.\n",
        "\n",
        "It's important to realize that we are dealing here with **multi-class classification** instead of binary classification as we have more than 2 classes. So the softmax function could be seen as the generalized form of the sigmoid function for multi-class classification."
      ]
    },
    {
      "cell_type": "code",
      "execution_count": null,
      "metadata": {
        "colab": {
          "base_uri": "https://localhost:8080/"
        },
        "id": "NweLXwZEoaNc",
        "outputId": "5103efcd-5d73-43b1-b544-1dd1216d2ede"
      },
      "outputs": [
        {
          "output_type": "stream",
          "name": "stdout",
          "text": [
            "Model: \"sequential_4\"\n",
            "_________________________________________________________________\n",
            " Layer (type)                Output Shape              Param #   \n",
            "=================================================================\n",
            " dense_12 (Dense)            (None, 512)               401920    \n",
            "                                                                 \n",
            " dense_13 (Dense)            (None, 10)                5130      \n",
            "                                                                 \n",
            "=================================================================\n",
            "Total params: 407050 (1.55 MB)\n",
            "Trainable params: 407050 (1.55 MB)\n",
            "Non-trainable params: 0 (0.00 Byte)\n",
            "_________________________________________________________________\n"
          ]
        }
      ],
      "source": [
        "from tensorflow import keras  # keras is tensorflow's high-level api!\n",
        "model = keras.Sequential([\n",
        " keras.layers.Dense(512, activation=\"relu\"),  # hidden layer consisting of 512 neurons and relu as activation\n",
        " keras.layers.Dense(10, activation=\"softmax\")  # output layer consisting of 10 neurons and softmax as activation\n",
        "])\n",
        "\n",
        "model.build(input_shape=(None, 28 * 28))  # number of neurons for the input layer\n",
        "model.summary()"
      ]
    },
    {
      "cell_type": "markdown",
      "metadata": {
        "id": "IlwTBxI8T4lU"
      },
      "source": [
        "We see that the model consists of 407,050 parameters! Compare this to single linear regression where the algorithm had to derive only 2 parameters...."
      ]
    },
    {
      "cell_type": "markdown",
      "metadata": {
        "id": "WK6aJ_IWULSa"
      },
      "source": [
        "Before we can begin training the model, we must first compile it. We need to specify what loss function the algorithm should use, and what optimizer it must apply to minimize that loss function. Explaining what exactly `\"sparse_categorical_crossentropy\"` means is out of scope, but keep in mind it is used as a loss function for multi-class classification models in which labels are represented as integers, like here.\n",
        "\n",
        "We will also specify that we want the accuracy to be calculated after each epoch. Of course, we already know the `\"accuracy\"` metric: it is the number of correctly classified images divided by the total number of images.\n",
        "\n",
        "And we also know what an *epoch* is. Indeed, the algorithm will repeatedly go through the entire dataset to optimize the parameters. When the algorithm has fully processed the dataset one time, it has completed one epoch."
      ]
    },
    {
      "cell_type": "code",
      "execution_count": null,
      "metadata": {
        "id": "s7NPPa3HogsY"
      },
      "outputs": [],
      "source": [
        "model.compile(\n",
        "    loss=\"sparse_categorical_crossentropy\",  # loss function that calculates difference between predicted and true labels\n",
        "    optimizer=\"rmsprop\",  # algorithm that minimizes the loss function\n",
        "    metrics=[\"accuracy\"]  # calculate accuracy after each iteration (epoch)\n",
        "  )"
      ]
    },
    {
      "cell_type": "markdown",
      "metadata": {
        "id": "hT79ALX0WzgM"
      },
      "source": [
        "Voila, we are ready to train the model. Just like with Scikit-Learn, with Keras we also call the method `fit`, and we pass the features and labels to it: `train_images` and `train_labels`. So we use only the training set! We also need to specify the number of epochs and the batch size. In this case, 5 epochs will suffice and we let the algorithm process 128 images at once."
      ]
    },
    {
      "cell_type": "code",
      "execution_count": null,
      "metadata": {
        "colab": {
          "base_uri": "https://localhost:8080/"
        },
        "id": "1hlWFNtIpCkg",
        "outputId": "829e74ff-2388-4075-d819-c7f086e334f2"
      },
      "outputs": [
        {
          "output_type": "stream",
          "name": "stdout",
          "text": [
            "Epoch 1/5\n",
            "469/469 [==============================] - 6s 12ms/step - loss: 0.2657 - accuracy: 0.9245\n",
            "Epoch 2/5\n",
            "469/469 [==============================] - 5s 10ms/step - loss: 0.1059 - accuracy: 0.9688\n",
            "Epoch 3/5\n",
            "469/469 [==============================] - 6s 12ms/step - loss: 0.0695 - accuracy: 0.9795\n",
            "Epoch 4/5\n",
            "469/469 [==============================] - 5s 11ms/step - loss: 0.0511 - accuracy: 0.9850\n",
            "Epoch 5/5\n",
            "469/469 [==============================] - 5s 10ms/step - loss: 0.0379 - accuracy: 0.9889\n"
          ]
        }
      ],
      "source": [
        "model.fit(train_images, train_labels, epochs=5, batch_size=128);  # training the model using the training set"
      ]
    },
    {
      "cell_type": "markdown",
      "metadata": {
        "id": "LJs1HDi8Xep-"
      },
      "source": [
        "The model achieves a very high accuracy of almost 99%! But does it perform as well on the test set?"
      ]
    },
    {
      "cell_type": "code",
      "execution_count": null,
      "metadata": {
        "colab": {
          "base_uri": "https://localhost:8080/"
        },
        "id": "H8nXhGl2qZDG",
        "outputId": "6e8b536f-c3b3-46ad-caa6-82ee9ee7d917"
      },
      "outputs": [
        {
          "output_type": "stream",
          "name": "stdout",
          "text": [
            "313/313 [==============================] - 2s 5ms/step - loss: 0.0682 - accuracy: 0.9784\n",
            "accuracy on the test set: 0.9783999919891357\n"
          ]
        }
      ],
      "source": [
        "test_loss, test_acc = model.evaluate(test_images, test_labels)  # evaluate model using the test set\n",
        "print(f\"accuracy on the test set: {test_acc}\")"
      ]
    },
    {
      "cell_type": "markdown",
      "metadata": {
        "id": "083i_d6wYbhF"
      },
      "source": [
        "The accuracy on the test is also very high! So that looks good!\n",
        "\n",
        "Should the accuracy of the test set be much lower, our model would suffer from **overfitting**. As we already know, we basically need to use a third set to detect overfitting: the validation set. In that case, the loss (and accuracy) is calculated during training for both the validation set and the training set after each epoch. From the moment the loss of the training set keeps decreasing, while that of the validation set does not or even starts to increase, we need to stop. For this example, we figured out in advance that we should stop after about 5 epochs, and therefore, we did not validate the model.\n",
        "\n",
        "Since overfitting is a fundamental problem in machine learning and deep learning, several regularization techniques are available to avoid it! However, explaining these techniques is not within the scope of this workshop."
      ]
    },
    {
      "cell_type": "markdown",
      "metadata": {
        "id": "Uy5HWGB2bIr5"
      },
      "source": [
        "Let us now test whether the neural network effectively recognizes our own handwritten digit. Just like with Scikit-Learn, we also use method `predict` and pass our image as input. Of course, we also need to reshape this image into a long row of pixels:"
      ]
    },
    {
      "cell_type": "code",
      "execution_count": null,
      "metadata": {
        "colab": {
          "base_uri": "https://localhost:8080/"
        },
        "id": "8h-k0ix2liAy",
        "outputId": "4084ae06-5f97-4bb3-9d0c-3f123aba477f"
      },
      "outputs": [
        {
          "output_type": "stream",
          "name": "stdout",
          "text": [
            "1/1 [==============================] - 0s 58ms/step\n"
          ]
        },
        {
          "output_type": "execute_result",
          "data": {
            "text/plain": [
              "array([2.9876305e-06, 4.3787732e-06, 3.9882454e-04, 9.9959117e-01,\n",
              "       1.3545465e-10, 8.9304763e-07, 1.9179638e-10, 1.5312692e-08,\n",
              "       1.5813225e-06, 1.8432421e-07], dtype=float32)"
            ]
          },
          "metadata": {},
          "execution_count": 51
        }
      ],
      "source": [
        "probs = model.predict(digit.reshape(1, -1))  # predict returns 10 probabilities\n",
        "probs[0]"
      ]
    },
    {
      "cell_type": "markdown",
      "metadata": {
        "id": "tr5kadbzcS1Z"
      },
      "source": [
        "We get 10 probabilities as output indeed. So that's 10 numbers between 0 and 1 that we have to interpret as percentages. We see the fourth element is the largest number. Since we start from digit 0, the fourth element corresponds to digit 3, which has the highest probability:"
      ]
    },
    {
      "cell_type": "code",
      "execution_count": null,
      "metadata": {
        "colab": {
          "base_uri": "https://localhost:8080/"
        },
        "id": "PhWd3s38cCwX",
        "outputId": "5e65a958-beec-4681-d4d6-958780515c86"
      },
      "outputs": [
        {
          "output_type": "stream",
          "name": "stdout",
          "text": [
            "The neural network is for 99.96 % sure the digit is 3!\n"
          ]
        }
      ],
      "source": [
        "prob = np.max(probs) * 100  # largest probability\n",
        "n = np.argmax(probs)  # index (= digit) corresponding to the largest probability\n",
        "print(f\"The neural network is for {prob:.2f} % sure the digit is {n}!\")"
      ]
    },
    {
      "cell_type": "markdown",
      "metadata": {
        "id": "v3Nd_aPyLlcT"
      },
      "source": [
        "### Convolutional neural network"
      ]
    },
    {
      "cell_type": "markdown",
      "metadata": {
        "id": "POTfMPNHdVZc"
      },
      "source": [
        "In theory, a convnet or CNN performs even better than a `classical` network with dense layers. Let's check that out using the following model that consists of 3 `Conv2D` layers, each separated by a `MaxPooling2D` layer. The first layers apply the convolutional \"filters\", the second perform some kind of compression. Discussing in detail how these layers work is out of scope.\n",
        "\n",
        "Unlike the previous model, we don't have to reshape the input images into a long row of pixels. No, because we are applying these \"filters\", the images should remain rectangular. Hence, the input shape of the input layer is 28 by 28. The number of color channels is also taken into account, but since we are dealing with black and white images, that number is 1.\n",
        "\n",
        "The output layer is the same as the one in our previous model: a `Dense` layer with 10 neurons, and the softmax function that will give probabilities as output. The `Flatten` layer that comes just before the output layer has the sole function of converting the `rectangular` output of the last convolutional layer to 1 long row, which can be passed to the last `Dense` output layer."
      ]
    },
    {
      "cell_type": "code",
      "execution_count": null,
      "metadata": {
        "colab": {
          "base_uri": "https://localhost:8080/"
        },
        "id": "iM7pPbffvZoQ",
        "outputId": "72063863-592b-4b97-c00f-4962653dbba8"
      },
      "outputs": [
        {
          "output_type": "stream",
          "name": "stdout",
          "text": [
            "Model: \"sequential_5\"\n",
            "_________________________________________________________________\n",
            " Layer (type)                Output Shape              Param #   \n",
            "=================================================================\n",
            " conv2d (Conv2D)             (None, 26, 26, 32)        320       \n",
            "                                                                 \n",
            " max_pooling2d (MaxPooling2  (None, 13, 13, 32)        0         \n",
            " D)                                                              \n",
            "                                                                 \n",
            " conv2d_1 (Conv2D)           (None, 11, 11, 64)        18496     \n",
            "                                                                 \n",
            " max_pooling2d_1 (MaxPoolin  (None, 5, 5, 64)          0         \n",
            " g2D)                                                            \n",
            "                                                                 \n",
            " conv2d_2 (Conv2D)           (None, 3, 3, 128)         73856     \n",
            "                                                                 \n",
            " flatten (Flatten)           (None, 1152)              0         \n",
            "                                                                 \n",
            " dense_14 (Dense)            (None, 10)                11530     \n",
            "                                                                 \n",
            "=================================================================\n",
            "Total params: 104202 (407.04 KB)\n",
            "Trainable params: 104202 (407.04 KB)\n",
            "Non-trainable params: 0 (0.00 Byte)\n",
            "_________________________________________________________________\n"
          ]
        }
      ],
      "source": [
        "model = keras.Sequential([\n",
        "  keras.layers.Conv2D(filters=32, kernel_size=3, activation=\"relu\"),\n",
        "  keras.layers.MaxPooling2D(pool_size=2),\n",
        "  keras.layers.Conv2D(filters=64, kernel_size=3, activation=\"relu\"),\n",
        "  keras.layers.MaxPooling2D(pool_size=2),\n",
        "  keras.layers.Conv2D(filters=128, kernel_size=3, activation=\"relu\"),\n",
        "  keras.layers.Flatten(),\n",
        "  keras.layers.Dense(10, activation=\"softmax\")  # output layer consisting of 10 neurons and softmax as activation\n",
        "])\n",
        "\n",
        "model.build(input_shape=(None, 28, 28, 1))  # input consists of images of 28 x 28 pixels en 1 color channel\n",
        "model.summary()"
      ]
    },
    {
      "cell_type": "markdown",
      "metadata": {
        "id": "5kJh3TcJg2ss"
      },
      "source": [
        "Now we compile the model in the same way as the previous model:"
      ]
    },
    {
      "cell_type": "code",
      "execution_count": null,
      "metadata": {
        "id": "45oPdwOWwfE3"
      },
      "outputs": [],
      "source": [
        "model.compile(\n",
        "    loss=\"sparse_categorical_crossentropy\",  # loss function\n",
        "    optimizer=\"rmsprop\",  # optimizer\n",
        "    metrics=[\"accuracy\"]  # accuracy as metric\n",
        "  )"
      ]
    },
    {
      "cell_type": "markdown",
      "metadata": {
        "id": "TRpe-eRjhHm0"
      },
      "source": [
        "Before we can start training the model, we must \"reshape\" the training and test set to shape `(60000, 28, 28, 1)` and `(10000, 28, 28, 1)`, respectively:"
      ]
    },
    {
      "cell_type": "code",
      "execution_count": null,
      "metadata": {
        "id": "hJQlNa8zwN4m"
      },
      "outputs": [],
      "source": [
        "train_images = train_images.reshape((60000, 28, 28, 1))\n",
        "test_images = test_images.reshape((10000, 28, 28, 1))"
      ]
    },
    {
      "cell_type": "markdown",
      "metadata": {
        "id": "5CUUsuaYhvnB"
      },
      "source": [
        "We are ready now to train the model. Again, we take 5 epochs, and this time, set the batch size to 64:"
      ]
    },
    {
      "cell_type": "code",
      "execution_count": null,
      "metadata": {
        "colab": {
          "base_uri": "https://localhost:8080/"
        },
        "id": "FjB9t04mL_GV",
        "outputId": "99f2a6ac-f2dd-43c1-821b-d1491e4335e0"
      },
      "outputs": [
        {
          "output_type": "stream",
          "name": "stdout",
          "text": [
            "Epoch 1/5\n",
            "938/938 [==============================] - 55s 58ms/step - loss: 0.1598 - accuracy: 0.9509\n",
            "Epoch 2/5\n",
            "938/938 [==============================] - 54s 57ms/step - loss: 0.0465 - accuracy: 0.9854\n",
            "Epoch 3/5\n",
            "938/938 [==============================] - 53s 56ms/step - loss: 0.0318 - accuracy: 0.9903\n",
            "Epoch 4/5\n",
            "938/938 [==============================] - 53s 56ms/step - loss: 0.0240 - accuracy: 0.9923\n",
            "Epoch 5/5\n",
            "938/938 [==============================] - 53s 56ms/step - loss: 0.0187 - accuracy: 0.9944\n"
          ]
        }
      ],
      "source": [
        "model.fit(train_images, train_labels, epochs=5, batch_size=64);"
      ]
    },
    {
      "cell_type": "markdown",
      "metadata": {
        "id": "eF2u-5Hgh49d"
      },
      "source": [
        "We already achieved a very high accuracy using the previous neural network, but the convnet performs even slightly better!\n",
        "\n",
        "And what is its accuracy on the test set?"
      ]
    },
    {
      "cell_type": "code",
      "execution_count": null,
      "metadata": {
        "colab": {
          "base_uri": "https://localhost:8080/"
        },
        "id": "SXdsVuHkME5d",
        "outputId": "2040d5bf-4511-4a2d-d1bf-64e4ca4b4d6c"
      },
      "outputs": [
        {
          "output_type": "stream",
          "name": "stdout",
          "text": [
            "313/313 [==============================] - 4s 11ms/step - loss: 0.0298 - accuracy: 0.9906\n",
            "accuracy on the test set: 0.9905999898910522\n"
          ]
        }
      ],
      "source": [
        "test_loss, test_acc = model.evaluate(test_images, test_labels)\n",
        "print(f\"accuracy on the test set: {test_acc}\")"
      ]
    },
    {
      "cell_type": "markdown",
      "metadata": {
        "id": "NmaGlwxziVCq"
      },
      "source": [
        "That accuracy is also slightly better!"
      ]
    },
    {
      "cell_type": "markdown",
      "metadata": {
        "id": "2MYewZ_2jTbu"
      },
      "source": [
        "Finally, we test the new model on our own image with handwritten digit. We may not forget to add an extra dimension. For example, we can do this as follows:\n",
        "\n",
        "> `digit = digit[np.newaxis, :, :]`"
      ]
    },
    {
      "cell_type": "code",
      "execution_count": null,
      "metadata": {
        "colab": {
          "base_uri": "https://localhost:8080/"
        },
        "id": "WDIyvqFrsi3G",
        "outputId": "dccebc49-d425-408c-8b1f-dcfb215bd526"
      },
      "outputs": [
        {
          "output_type": "stream",
          "name": "stdout",
          "text": [
            "1/1 [==============================] - 0s 81ms/step\n",
            "The convnet is for 100.00 % sure that the digit is 3!\n"
          ]
        }
      ],
      "source": [
        "probs = model.predict(digit[np.newaxis, :, :])  # add extra dimension!\n",
        "prob = np.max(probs) * 100\n",
        "n = np.argmax(probs)\n",
        "print(f\"The convnet is for {prob:.2f} % sure that the digit is {n}!\")"
      ]
    },
    {
      "cell_type": "markdown",
      "source": [
        "Nice! After rounding the probability, it turns out the model is 100% sure our digit is 3!"
      ],
      "metadata": {
        "id": "-PbLJyq_zr-F"
      }
    },
    {
      "cell_type": "markdown",
      "source": [
        "\n",
        "---\n",
        "\n",
        "\n",
        "\n",
        "---\n",
        "## **References**"
      ],
      "metadata": {
        "id": "Z1Ctw0NO_oWQ"
      }
    },
    {
      "cell_type": "markdown",
      "source": [
        "- Serrano, L.G., 2021. [Grokking Machine Learning](https://www.manning.com/books/grokking-machine-learning). Manning Publication.\n",
        "- Chollet, F., 2022. [Deep Learning with Python (2nd ed.)](https://www.manning.com/books/deep-learning-with-python-second-edition). Manning Publication.\n",
        "- [Networkx User Guide](https://networkx.org/). Consulted on March 9, 2024.\n",
        "- [Scikit-Learn User Guide](https://scikit-learn.org/stable/user_guide.html). Consulted on Februari 18, 2024."
      ],
      "metadata": {
        "id": "M6cGltHfSkNc"
      }
    },
    {
      "cell_type": "markdown",
      "source": [
        "---"
      ],
      "metadata": {
        "id": "riPJ9wnFrMyY"
      }
    }
  ]
}