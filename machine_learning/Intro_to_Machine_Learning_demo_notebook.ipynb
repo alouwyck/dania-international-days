{
  "nbformat": 4,
  "nbformat_minor": 0,
  "metadata": {
    "colab": {
      "provenance": [],
      "include_colab_link": true
    },
    "kernelspec": {
      "name": "python3",
      "display_name": "Python 3"
    },
    "language_info": {
      "name": "python"
    }
  },
  "cells": [
    {
      "cell_type": "markdown",
      "metadata": {
        "id": "view-in-github",
        "colab_type": "text"
      },
      "source": [
        "<a href=\"https://colab.research.google.com/github/alouwyck/dania-international-days/blob/main/machine_learning/Intro_to_Machine_Learning_demo_notebook.ipynb\" target=\"_parent\"><img src=\"https://colab.research.google.com/assets/colab-badge.svg\" alt=\"Open In Colab\"/></a>"
      ]
    },
    {
      "cell_type": "markdown",
      "metadata": {
        "id": "DyJxjGGXV07j"
      },
      "source": [
        "<img src=\"data:image/png;base64,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\" align=\"right\" /><br>\n",
        "\n",
        "**Dania International Days**<br>\n",
        "13 - 15 March 2024<br><br>\n",
        "Workshop by Andy Louwyck\n",
        "\n",
        "---\n",
        "\n",
        "\n",
        "\n",
        "---\n",
        "\n"
      ]
    },
    {
      "cell_type": "markdown",
      "source": [
        "# **INTRODUCTION TO MACHINE LEARNING WITH PYTHON**"
      ],
      "metadata": {
        "id": "wgl2o66IebkB"
      }
    },
    {
      "cell_type": "markdown",
      "source": [
        "## **What is Machine Learning?**"
      ],
      "metadata": {
        "id": "fodnpzuJJlc4"
      }
    },
    {
      "cell_type": "markdown",
      "source": [
        "Classical programming"
      ],
      "metadata": {
        "id": "Fb2SNx3lz5_F"
      }
    },
    {
      "cell_type": "code",
      "source": [
        "threshold = 17\n",
        "temperature = float(input(\"What is the temperature?\\n\"))  # data\n",
        "heating = 'on' if temperature < threshold else 'off'      # rule\n",
        "print(f'The heating is {heating}!')                       # answer"
      ],
      "metadata": {
        "id": "2OmJbvHLhiKb"
      },
      "execution_count": null,
      "outputs": []
    },
    {
      "cell_type": "markdown",
      "source": [
        "Machine learning"
      ],
      "metadata": {
        "id": "iGIRezkVcqVp"
      }
    },
    {
      "cell_type": "code",
      "source": [
        "import pandas as pd  # Python library for data analysis\n",
        "\n",
        "temperature = [17.1, 15.6, 23.1, 19.8, 12.9, 20.3, 14.7, 16.2]  # data (input)\n",
        "heating = ['off', 'on', 'off', 'off', 'on', 'off', 'on', 'on']  # answers (output)\n",
        "table = pd.DataFrame(dict(temperature=temperature, heating=heating))\n",
        "table"
      ],
      "metadata": {
        "id": "s4kaLBnakclf"
      },
      "execution_count": null,
      "outputs": []
    },
    {
      "cell_type": "code",
      "source": [
        "import numpy as np  # numeric Python\n",
        "import matplotlib.pyplot as plt  # visualization library\n",
        "\n",
        "def plot_temperature_heating(table):\n",
        "    '''\n",
        "    plots heating vs temperature\n",
        "    table: Pandas DataFrame with columns 'temperature' and 'heating'\n",
        "    returns: axes\n",
        "    '''\n",
        "    _, ax = plt.subplots(1, 1, figsize=(8, 2))\n",
        "    on = table.heating == 'on'\n",
        "    off = ~on\n",
        "    plt.plot(table[on].temperature, np.ones(on.sum()), 'go');\n",
        "    plt.plot(table[off].temperature, np.zeros(off.sum()), 'ro');\n",
        "    plt.xlabel('temperature');\n",
        "    plt.ylabel('heating');\n",
        "    plt.yticks((0, 1));\n",
        "    ax.set_yticklabels(('off', 'on'))\n",
        "    plt.grid();\n",
        "    return ax"
      ],
      "metadata": {
        "id": "ALGDSwrqUx8h"
      },
      "execution_count": null,
      "outputs": []
    },
    {
      "cell_type": "code",
      "source": [
        "plot_temperature_heating(table);"
      ],
      "metadata": {
        "id": "uz-ENKMYVQmL"
      },
      "execution_count": null,
      "outputs": []
    },
    {
      "cell_type": "markdown",
      "source": [
        "Naive learning algorithm"
      ],
      "metadata": {
        "id": "c_BR_oXp0U9V"
      }
    },
    {
      "cell_type": "code",
      "source": [
        "max_temperature_on = table[table.heating=='on']['temperature'].max()\n",
        "min_temperature_off = table[table.heating=='off']['temperature'].min()\n",
        "threshold = (max_temperature_on + min_temperature_off) / 2\n",
        "print(f'maximum temperature if heating is on: {max_temperature_on}°C')\n",
        "print(f'minimum temperature if heating is off: {min_temperature_off}°C')\n",
        "print(f'threshold is {threshold}°C')"
      ],
      "metadata": {
        "id": "_tSMB9TR20hW"
      },
      "execution_count": null,
      "outputs": []
    },
    {
      "cell_type": "code",
      "source": [
        "ax = plot_temperature_heating(table);\n",
        "yl = ax.get_ylim();\n",
        "ax.plot(threshold * np.ones(2), [-1, 2], 'b-');\n",
        "ax.set_ylim(yl);"
      ],
      "metadata": {
        "id": "9wlC7mAWmNdT"
      },
      "execution_count": null,
      "outputs": []
    },
    {
      "cell_type": "markdown",
      "source": [
        "Nearest neighbor"
      ],
      "metadata": {
        "id": "yo3Lgjm60bLr"
      }
    },
    {
      "cell_type": "code",
      "source": [
        "temperature = float(input(\"What is the temperature?\\n\"))  # input temperature\n",
        "abs_difference = (temperature - table.temperature).abs()  # absolute difference\n",
        "heating = table.heating.iloc[abs_difference.argmin()]     # label of nearest neighbor\n",
        "print(f'The heating is {heating}!')                       # answer"
      ],
      "metadata": {
        "id": "KBONgfvz7gWN"
      },
      "execution_count": null,
      "outputs": []
    },
    {
      "cell_type": "code",
      "source": [
        "ax = plot_temperature_heating(table);\n",
        "ax.plot(temperature, heating == 'on', 'bo');"
      ],
      "metadata": {
        "id": "Z3Ll7iwy8YL_"
      },
      "execution_count": null,
      "outputs": []
    },
    {
      "cell_type": "markdown",
      "source": [
        "## **Classification**"
      ],
      "metadata": {
        "id": "z532EdkhoXFp"
      }
    },
    {
      "cell_type": "markdown",
      "source": [
        "### K Nearest Neighbors"
      ],
      "metadata": {
        "id": "OlESKtURop1d"
      }
    },
    {
      "cell_type": "markdown",
      "source": [
        "Take K nearest neighbors instead of only 1"
      ],
      "metadata": {
        "id": "ERoS2Bf90nrK"
      }
    },
    {
      "cell_type": "code",
      "source": [
        "from sklearn.neighbors import KNeighborsClassifier\n",
        "\n",
        "model = KNeighborsClassifier(n_neighbors=3)  # instantiate with K = 3\n",
        "model.fit(table[['temperature']].values, table.heating=='on')  # fit data\n",
        "\n",
        "new_temperature = 17.0\n",
        "model.predict([[new_temperature]]).item()  # predict label for new temperature value"
      ],
      "metadata": {
        "id": "YJbdjgF6ep_O"
      },
      "execution_count": null,
      "outputs": []
    },
    {
      "cell_type": "code",
      "source": [
        "ax = plot_temperature_heating(table);\n",
        "ax.plot(new_temperature, 1, 'bo');"
      ],
      "metadata": {
        "id": "-VWMOi2afrUP"
      },
      "execution_count": null,
      "outputs": []
    },
    {
      "cell_type": "code",
      "source": [
        "model.score(table[['temperature']].values, table.heating=='on')  # returns accuracy"
      ],
      "metadata": {
        "id": "c9nTJ1EaeWwZ"
      },
      "execution_count": null,
      "outputs": []
    },
    {
      "cell_type": "markdown",
      "source": [
        "### Logistic Regression"
      ],
      "metadata": {
        "id": "JCNX-aVtom4p"
      }
    },
    {
      "cell_type": "code",
      "source": [
        "from sklearn.linear_model import LogisticRegression\n",
        "\n",
        "model = LogisticRegression(penalty=None)  # instantiate\n",
        "model.fit(table[['temperature']].values, table.heating=='on')  # fit data\n",
        "\n",
        "threshold = -model.intercept_.item() / model.coef_.item()  # determine threshold\n",
        "print(f'threshold is {threshold}°C')\n",
        "\n",
        "model.predict([[new_temperature]]).item()  # predict label for new temperature value"
      ],
      "metadata": {
        "id": "sl61DnSC7ZPk"
      },
      "execution_count": null,
      "outputs": []
    },
    {
      "cell_type": "code",
      "source": [
        "model.score(table[['temperature']].values, table.heating=='on')  # accuracy"
      ],
      "metadata": {
        "id": "wxaYstt8d-Ia"
      },
      "execution_count": null,
      "outputs": []
    },
    {
      "cell_type": "code",
      "source": [
        "ax = plot_temperature_heating(table);\n",
        "sigmoid = lambda f: 1 / (1 + np.exp(-f))\n",
        "f = lambda x: model.coef_.item() * x + model.intercept_.item()\n",
        "x = np.linspace(12, 24, 1000)\n",
        "xl, yl = ax.get_xlim(), ax.get_ylim()\n",
        "ax.plot(x, sigmoid(f(x)), 'k--');\n",
        "ax.plot(threshold * np.ones(2), [-1, 2], 'b-');\n",
        "ax.set_xlim(xl); ax.set_ylim(yl);"
      ],
      "metadata": {
        "id": "lnyL5TD0aK4T"
      },
      "execution_count": null,
      "outputs": []
    },
    {
      "cell_type": "markdown",
      "source": [
        "## **Regression**"
      ],
      "metadata": {
        "id": "D4zVeTl2v4un"
      }
    },
    {
      "cell_type": "markdown",
      "source": [
        "The dataset"
      ],
      "metadata": {
        "id": "WvWkYmqf1i9G"
      }
    },
    {
      "cell_type": "code",
      "source": [
        "import pandas as pd\n",
        "df = pd.read_csv('Student_Marks.csv')\n",
        "df.head()  # show the first 5 records"
      ],
      "metadata": {
        "id": "GFbCAuFJU9Iq"
      },
      "execution_count": null,
      "outputs": []
    },
    {
      "cell_type": "code",
      "source": [
        "df.describe().T  # T transposes the resulting table"
      ],
      "metadata": {
        "id": "ohVxZ_dUAMKC"
      },
      "execution_count": null,
      "outputs": []
    },
    {
      "cell_type": "code",
      "source": [
        "import matplotlib.pyplot as plt\n",
        "df.plot.scatter(x='time_study', y='Marks');\n",
        "plt.grid();"
      ],
      "metadata": {
        "id": "TN_A-nWjByvC"
      },
      "execution_count": null,
      "outputs": []
    },
    {
      "cell_type": "markdown",
      "source": [
        "Simple linear regression"
      ],
      "metadata": {
        "id": "cKNiY0TmpGyo"
      }
    },
    {
      "cell_type": "code",
      "source": [
        "from sklearn.linear_model import LinearRegression\n",
        "\n",
        "X, y = df[['time_study']].values, df.Marks.values  # feature X, target y\n",
        "\n",
        "model = LinearRegression()  # instantiate class\n",
        "model.fit(X, y)  # fit data\n",
        "model.score(X, y)  # R² score"
      ],
      "metadata": {
        "id": "BwrLF_n3EpNs"
      },
      "execution_count": null,
      "outputs": []
    },
    {
      "cell_type": "code",
      "source": [
        "df.plot.scatter(x='time_study', y='Marks');\n",
        "xline = np.array([[0, 8]]).T  # must be 2D matrix!\n",
        "yline = model.predict(xline)  # predict regression line\n",
        "plt.plot(xline, yline, 'r-');\n",
        "plt.grid();"
      ],
      "metadata": {
        "id": "7thFLD4OFu6H"
      },
      "execution_count": null,
      "outputs": []
    },
    {
      "cell_type": "markdown",
      "source": [
        "Underfitting!"
      ],
      "metadata": {
        "id": "MYH8MJ6o16ue"
      }
    },
    {
      "cell_type": "markdown",
      "source": [
        "Polynomial regression"
      ],
      "metadata": {
        "id": "yZlm9lSIpQHZ"
      }
    },
    {
      "cell_type": "code",
      "source": [
        "import numpy as np\n",
        "X = X.flatten()               # polyfit wants 1D array!\n",
        "a = np.polyfit(X, y, deg=15)  # polynomial fit of degree 15"
      ],
      "metadata": {
        "id": "Mq6Qon88JjTj"
      },
      "execution_count": null,
      "outputs": []
    },
    {
      "cell_type": "code",
      "source": [
        "from sklearn.metrics import r2_score  # import function to calculate R² score\n",
        "\n",
        "yp = np.polyval(a, X)          # predictions\n",
        "r2_score(y_true=y, y_pred=yp)  # R² score"
      ],
      "metadata": {
        "id": "3cBEwa9DKCwc"
      },
      "execution_count": null,
      "outputs": []
    },
    {
      "cell_type": "code",
      "source": [
        "xcurve = np.linspace(0, 8, 100)  # create 100 equally spaced points x between 0 and 8\n",
        "ycurve = np.polyval(a, xcurve)   # predict y for these 100 points x\n",
        "df.plot.scatter(x='time_study', y='Marks')\n",
        "plt.plot(xcurve, ycurve, 'r-');\n",
        "plt.grid();"
      ],
      "metadata": {
        "id": "p1RG3HOELm3y"
      },
      "execution_count": null,
      "outputs": []
    },
    {
      "cell_type": "markdown",
      "source": [
        "Overfitting!"
      ],
      "metadata": {
        "id": "g13fU0cz2NUq"
      }
    },
    {
      "cell_type": "markdown",
      "source": [
        "Create validation set"
      ],
      "metadata": {
        "id": "kdFABdtX2Ut3"
      }
    },
    {
      "cell_type": "code",
      "source": [
        "from sklearn.model_selection import train_test_split\n",
        "\n",
        "X, y = df[['time_study']].values, df.Marks.values  # feature X, target y\n",
        "X_train, X_val, y_train, y_val = train_test_split(X, y,\n",
        "                                                  test_size=0.4,      # 40% is used for validation\n",
        "                                                  random_state=2024)  # set random seed"
      ],
      "metadata": {
        "id": "JA90Cp9N1Jbn"
      },
      "execution_count": null,
      "outputs": []
    },
    {
      "cell_type": "code",
      "source": [
        "plt.scatter(X_train.flatten(), y_train, color='blue', label='training set');\n",
        "plt.scatter(X_val.flatten(), y_val, color='red', label='validation set');\n",
        "plt.legend();\n",
        "plt.xlabel('time_study');\n",
        "plt.ylabel('Marks');\n",
        "plt.grid();"
      ],
      "metadata": {
        "id": "E7n-R8nP1ye0"
      },
      "execution_count": null,
      "outputs": []
    },
    {
      "cell_type": "code",
      "source": [
        "# linear regression\n",
        "linreg = LinearRegression()\n",
        "linreg.fit(X_train, y_train)\n",
        "print(f\"training: {linreg.score(X_train, y_train)}\")\n",
        "print(f\"validation: {linreg.score(X_val, y_val)}\")"
      ],
      "metadata": {
        "id": "08ikovEuzLpD"
      },
      "execution_count": null,
      "outputs": []
    },
    {
      "cell_type": "code",
      "source": [
        "# polynomial regression (degree 15)\n",
        "a = np.polyfit(X_train.flatten(), y_train, deg=15)  # polynomial fit of degree 15\n",
        "print(f\"training: {r2_score(y_true=y_train, y_pred=np.polyval(a, X_train.flatten()))}\")\n",
        "print(f\"validation: {r2_score(y_true=y_val, y_pred=np.polyval(a, X_val.flatten()))}\")"
      ],
      "metadata": {
        "id": "YSZfe4X2Rfs6"
      },
      "execution_count": null,
      "outputs": []
    },
    {
      "cell_type": "markdown",
      "source": [
        "The model complexity graph"
      ],
      "metadata": {
        "id": "1nzhUn2N2nHD"
      }
    },
    {
      "cell_type": "code",
      "source": [
        "from sklearn.metrics import mean_absolute_error as MAE  # import MAE function\n",
        "\n",
        "mae_train = []  # list of MAEs of training data\n",
        "mae_val = []    # list of MAEs of validation data\n",
        "coef = []       # list of coefficients\n",
        "degrees = range(1, 21)  # range of degrees of polynomial function\n",
        "\n",
        "for degree in degrees:  # loop through degrees\n",
        "\n",
        "    a = np.polyfit(X_train.flatten(), y_train, degree)  # polynomial fit of training data\n",
        "    yp_train = np.polyval(a, X_train.flatten())         # predictions of training data\n",
        "    yp_val = np.polyval(a, X_val.flatten())             # predictions of validation data\n",
        "\n",
        "    coef.append(a)  # coefficients\n",
        "    mae_train.append(MAE(y_true=y_train, y_pred=yp_train))  # MAE of training data\n",
        "    mae_val.append(MAE(y_true=y_val, y_pred=yp_val))        # MAE of validation data"
      ],
      "metadata": {
        "id": "3oKqzfsa3AEn"
      },
      "execution_count": null,
      "outputs": []
    },
    {
      "cell_type": "code",
      "source": [
        "from matplotlib.animation import FuncAnimation\n",
        "from matplotlib import rc\n",
        "rc('animation', html='jshtml')\n",
        "\n",
        "# initialization\n",
        "fig, (ax1, ax2) = plt.subplots(1, 2, figsize=(12, 5))  # figure containing 2 axes\n",
        "ax1.plot(X_train.flatten(), y_train, 'b.', label='training set');\n",
        "ax1.plot(X_val.flatten(), y_val, 'r.', label='validation set');\n",
        "ax1.legend();\n",
        "xplot = np.linspace(0, 8, 1000)\n",
        "regression_line = ax1.plot(xplot, np.polyval(coef[0], xplot),'k-')\n",
        "ax1.set_title('degree = 1');\n",
        "ax1.set_xlabel('time_study');\n",
        "ax1.set_ylabel('Marks');\n",
        "ax1.grid();\n",
        "ax2.yaxis.set_label_position(\"right\");\n",
        "ax2.yaxis.tick_right();\n",
        "mae_train_line = ax2.plot(degrees[0], mae_train[0], 'b.-', label='training');\n",
        "mae_val_line = ax2.plot(degrees[0], mae_val[0], 'r.-', label='validation');\n",
        "ax2.legend();\n",
        "ax2.set_xlabel('Degree');\n",
        "ax2.set_ylabel('MAE');\n",
        "ax2.set_xlim((0, 21));\n",
        "ax2.set_ylim((1, 5));\n",
        "ax2.grid();\n",
        "\n",
        "# update function for animation\n",
        "def update(degree):\n",
        "    yplot = np.polyval(coef[degree-1], xplot)\n",
        "    regression_line[0].set_ydata(yplot)\n",
        "    ax1.set_title('degree = ' + str(degree));\n",
        "    mae_train_line[0].set_xdata(degrees[:degree])\n",
        "    mae_train_line[0].set_ydata(mae_train[:degree])\n",
        "    mae_val_line[0].set_xdata(degrees[:degree])\n",
        "    mae_val_line[0].set_ydata(mae_val[:degree])\n",
        "\n",
        "# create animation\n",
        "ani = FuncAnimation(fig, update, frames=degrees, blit=False, repeat=True)\n",
        "plt.close()\n",
        "ani"
      ],
      "metadata": {
        "id": "Dq3LcUTElINn"
      },
      "execution_count": null,
      "outputs": []
    },
    {
      "cell_type": "code",
      "source": [
        "plt.plot(degrees, mae_train, 'b.-', label='training');\n",
        "plt.plot(degrees, mae_val, 'r.-', label='validation');\n",
        "plt.legend();\n",
        "plt.xlabel('Degree');\n",
        "plt.ylabel('MAE');\n",
        "plt.grid();"
      ],
      "metadata": {
        "id": "KonpP2uMxGF7"
      },
      "execution_count": null,
      "outputs": []
    },
    {
      "cell_type": "code",
      "source": [
        "# polynomial fit degree 2\n",
        "\n",
        "a = np.polyfit(X.flatten(), y, deg=2)\n",
        "yp = np.polyval(a, X.flatten())\n",
        "MAE(y_true=y, y_pred=yp)"
      ],
      "metadata": {
        "id": "4L2L1Ut_3kHZ"
      },
      "execution_count": null,
      "outputs": []
    },
    {
      "cell_type": "code",
      "source": [
        "df.plot.scatter(x='time_study', y='Marks');\n",
        "xplot = np.linspace(0, 8, 100)\n",
        "plt.plot(xplot, np.polyval(a, xplot), 'r-');\n",
        "plt.grid();"
      ],
      "metadata": {
        "id": "uUiNFuNk32CW"
      },
      "execution_count": null,
      "outputs": []
    },
    {
      "cell_type": "markdown",
      "source": [
        "Regularization: LASSO"
      ],
      "metadata": {
        "id": "Fg14HZNx3EXX"
      }
    },
    {
      "cell_type": "code",
      "source": [
        "from sklearn.linear_model import Lasso\n",
        "from sklearn.preprocessing import PolynomialFeatures\n",
        "from sklearn.pipeline import make_pipeline\n",
        "\n",
        "degree = 10\n",
        "\n",
        "lasso = make_pipeline(\n",
        "    PolynomialFeatures(degree, include_bias=False),\n",
        "    Lasso(alpha=0.1, tol=0.1)\n",
        ")\n",
        "lasso.fit(X, y);\n",
        "\n",
        "MAE(y_true=y, y_pred=lasso.predict(X))"
      ],
      "metadata": {
        "id": "yusIlgjlekho"
      },
      "execution_count": null,
      "outputs": []
    },
    {
      "cell_type": "code",
      "source": [
        "df.plot.scatter(x='time_study', y='Marks');\n",
        "xplot = np.linspace(0, 8, 100).reshape(-1, 1)\n",
        "plt.plot(xplot, lasso.predict(xplot), 'r-');\n",
        "plt.grid();"
      ],
      "metadata": {
        "id": "NFeOnrsWexQV"
      },
      "execution_count": null,
      "outputs": []
    }
  ]
}